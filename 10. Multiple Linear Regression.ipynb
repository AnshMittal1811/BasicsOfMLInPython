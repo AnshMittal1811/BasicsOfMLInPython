{
 "cells": [
  {
   "cell_type": "markdown",
   "metadata": {},
   "source": [
    "# MULTIPLE LINEAR REGRESSION"
   ]
  },
  {
   "cell_type": "markdown",
   "metadata": {},
   "source": [
    "## Multiple Linear Regression\n",
    "\n",
    "Now you know how to build a model with one X (feature variable) and Y (response variable). But what if you have three feature variables, or may be 10 or 100? Building a separate model for each of them, combining them, and then understanding them will be a very difficult and next to impossible task. By using multiple linear regression, you can build models between a response variable and many feature variables.\n",
    "\n",
    "Let's see how to do that."
   ]
  },
  {
   "cell_type": "markdown",
   "metadata": {},
   "source": [
    "### Step_1 : Importing and Understanding Data"
   ]
  },
  {
   "cell_type": "code",
   "execution_count": 1,
   "metadata": {},
   "outputs": [],
   "source": [
    "import pandas as pd"
   ]
  },
  {
   "cell_type": "code",
   "execution_count": 2,
   "metadata": {},
   "outputs": [],
   "source": [
    "# Importing advertising.csv\n",
    "advertising_multi = pd.read_csv('Datasets/advertising.csv')"
   ]
  },
  {
   "cell_type": "code",
   "execution_count": 3,
   "metadata": {},
   "outputs": [
    {
     "data": {
      "text/html": [
       "<div>\n",
       "<style scoped>\n",
       "    .dataframe tbody tr th:only-of-type {\n",
       "        vertical-align: middle;\n",
       "    }\n",
       "\n",
       "    .dataframe tbody tr th {\n",
       "        vertical-align: top;\n",
       "    }\n",
       "\n",
       "    .dataframe thead th {\n",
       "        text-align: right;\n",
       "    }\n",
       "</style>\n",
       "<table border=\"1\" class=\"dataframe\">\n",
       "  <thead>\n",
       "    <tr style=\"text-align: right;\">\n",
       "      <th></th>\n",
       "      <th>TV</th>\n",
       "      <th>Radio</th>\n",
       "      <th>Newspaper</th>\n",
       "      <th>Sales</th>\n",
       "    </tr>\n",
       "  </thead>\n",
       "  <tbody>\n",
       "    <tr>\n",
       "      <th>0</th>\n",
       "      <td>230.1</td>\n",
       "      <td>37.8</td>\n",
       "      <td>69.2</td>\n",
       "      <td>22.1</td>\n",
       "    </tr>\n",
       "    <tr>\n",
       "      <th>1</th>\n",
       "      <td>44.5</td>\n",
       "      <td>39.3</td>\n",
       "      <td>45.1</td>\n",
       "      <td>10.4</td>\n",
       "    </tr>\n",
       "    <tr>\n",
       "      <th>2</th>\n",
       "      <td>17.2</td>\n",
       "      <td>45.9</td>\n",
       "      <td>69.3</td>\n",
       "      <td>9.3</td>\n",
       "    </tr>\n",
       "    <tr>\n",
       "      <th>3</th>\n",
       "      <td>151.5</td>\n",
       "      <td>41.3</td>\n",
       "      <td>58.5</td>\n",
       "      <td>18.5</td>\n",
       "    </tr>\n",
       "    <tr>\n",
       "      <th>4</th>\n",
       "      <td>180.8</td>\n",
       "      <td>10.8</td>\n",
       "      <td>58.4</td>\n",
       "      <td>12.9</td>\n",
       "    </tr>\n",
       "  </tbody>\n",
       "</table>\n",
       "</div>"
      ],
      "text/plain": [
       "      TV  Radio  Newspaper  Sales\n",
       "0  230.1   37.8       69.2   22.1\n",
       "1   44.5   39.3       45.1   10.4\n",
       "2   17.2   45.9       69.3    9.3\n",
       "3  151.5   41.3       58.5   18.5\n",
       "4  180.8   10.8       58.4   12.9"
      ]
     },
     "execution_count": 3,
     "metadata": {},
     "output_type": "execute_result"
    }
   ],
   "source": [
    "# Looking at the first five rows\n",
    "advertising_multi.head()"
   ]
  },
  {
   "cell_type": "code",
   "execution_count": 4,
   "metadata": {},
   "outputs": [
    {
     "data": {
      "text/html": [
       "<div>\n",
       "<style scoped>\n",
       "    .dataframe tbody tr th:only-of-type {\n",
       "        vertical-align: middle;\n",
       "    }\n",
       "\n",
       "    .dataframe tbody tr th {\n",
       "        vertical-align: top;\n",
       "    }\n",
       "\n",
       "    .dataframe thead th {\n",
       "        text-align: right;\n",
       "    }\n",
       "</style>\n",
       "<table border=\"1\" class=\"dataframe\">\n",
       "  <thead>\n",
       "    <tr style=\"text-align: right;\">\n",
       "      <th></th>\n",
       "      <th>TV</th>\n",
       "      <th>Radio</th>\n",
       "      <th>Newspaper</th>\n",
       "      <th>Sales</th>\n",
       "    </tr>\n",
       "  </thead>\n",
       "  <tbody>\n",
       "    <tr>\n",
       "      <th>195</th>\n",
       "      <td>38.2</td>\n",
       "      <td>3.7</td>\n",
       "      <td>13.8</td>\n",
       "      <td>7.6</td>\n",
       "    </tr>\n",
       "    <tr>\n",
       "      <th>196</th>\n",
       "      <td>94.2</td>\n",
       "      <td>4.9</td>\n",
       "      <td>8.1</td>\n",
       "      <td>9.7</td>\n",
       "    </tr>\n",
       "    <tr>\n",
       "      <th>197</th>\n",
       "      <td>177.0</td>\n",
       "      <td>9.3</td>\n",
       "      <td>6.4</td>\n",
       "      <td>12.8</td>\n",
       "    </tr>\n",
       "    <tr>\n",
       "      <th>198</th>\n",
       "      <td>283.6</td>\n",
       "      <td>42.0</td>\n",
       "      <td>66.2</td>\n",
       "      <td>25.5</td>\n",
       "    </tr>\n",
       "    <tr>\n",
       "      <th>199</th>\n",
       "      <td>232.1</td>\n",
       "      <td>8.6</td>\n",
       "      <td>8.7</td>\n",
       "      <td>13.4</td>\n",
       "    </tr>\n",
       "  </tbody>\n",
       "</table>\n",
       "</div>"
      ],
      "text/plain": [
       "        TV  Radio  Newspaper  Sales\n",
       "195   38.2    3.7       13.8    7.6\n",
       "196   94.2    4.9        8.1    9.7\n",
       "197  177.0    9.3        6.4   12.8\n",
       "198  283.6   42.0       66.2   25.5\n",
       "199  232.1    8.6        8.7   13.4"
      ]
     },
     "execution_count": 4,
     "metadata": {},
     "output_type": "execute_result"
    }
   ],
   "source": [
    "# Looking at the last five rows\n",
    "advertising_multi.tail()"
   ]
  },
  {
   "cell_type": "code",
   "execution_count": 5,
   "metadata": {},
   "outputs": [
    {
     "name": "stdout",
     "output_type": "stream",
     "text": [
      "<class 'pandas.core.frame.DataFrame'>\n",
      "RangeIndex: 200 entries, 0 to 199\n",
      "Data columns (total 4 columns):\n",
      "TV           200 non-null float64\n",
      "Radio        200 non-null float64\n",
      "Newspaper    200 non-null float64\n",
      "Sales        200 non-null float64\n",
      "dtypes: float64(4)\n",
      "memory usage: 6.3 KB\n"
     ]
    }
   ],
   "source": [
    "# what type of values are stored in the columns?\n",
    "advertising_multi.info()"
   ]
  },
  {
   "cell_type": "code",
   "execution_count": 6,
   "metadata": {},
   "outputs": [
    {
     "data": {
      "text/html": [
       "<div>\n",
       "<style scoped>\n",
       "    .dataframe tbody tr th:only-of-type {\n",
       "        vertical-align: middle;\n",
       "    }\n",
       "\n",
       "    .dataframe tbody tr th {\n",
       "        vertical-align: top;\n",
       "    }\n",
       "\n",
       "    .dataframe thead th {\n",
       "        text-align: right;\n",
       "    }\n",
       "</style>\n",
       "<table border=\"1\" class=\"dataframe\">\n",
       "  <thead>\n",
       "    <tr style=\"text-align: right;\">\n",
       "      <th></th>\n",
       "      <th>TV</th>\n",
       "      <th>Radio</th>\n",
       "      <th>Newspaper</th>\n",
       "      <th>Sales</th>\n",
       "    </tr>\n",
       "  </thead>\n",
       "  <tbody>\n",
       "    <tr>\n",
       "      <th>count</th>\n",
       "      <td>200.000000</td>\n",
       "      <td>200.000000</td>\n",
       "      <td>200.000000</td>\n",
       "      <td>200.000000</td>\n",
       "    </tr>\n",
       "    <tr>\n",
       "      <th>mean</th>\n",
       "      <td>147.042500</td>\n",
       "      <td>23.264000</td>\n",
       "      <td>30.554000</td>\n",
       "      <td>14.022500</td>\n",
       "    </tr>\n",
       "    <tr>\n",
       "      <th>std</th>\n",
       "      <td>85.854236</td>\n",
       "      <td>14.846809</td>\n",
       "      <td>21.778621</td>\n",
       "      <td>5.217457</td>\n",
       "    </tr>\n",
       "    <tr>\n",
       "      <th>min</th>\n",
       "      <td>0.700000</td>\n",
       "      <td>0.000000</td>\n",
       "      <td>0.300000</td>\n",
       "      <td>1.600000</td>\n",
       "    </tr>\n",
       "    <tr>\n",
       "      <th>25%</th>\n",
       "      <td>74.375000</td>\n",
       "      <td>9.975000</td>\n",
       "      <td>12.750000</td>\n",
       "      <td>10.375000</td>\n",
       "    </tr>\n",
       "    <tr>\n",
       "      <th>50%</th>\n",
       "      <td>149.750000</td>\n",
       "      <td>22.900000</td>\n",
       "      <td>25.750000</td>\n",
       "      <td>12.900000</td>\n",
       "    </tr>\n",
       "    <tr>\n",
       "      <th>75%</th>\n",
       "      <td>218.825000</td>\n",
       "      <td>36.525000</td>\n",
       "      <td>45.100000</td>\n",
       "      <td>17.400000</td>\n",
       "    </tr>\n",
       "    <tr>\n",
       "      <th>max</th>\n",
       "      <td>296.400000</td>\n",
       "      <td>49.600000</td>\n",
       "      <td>114.000000</td>\n",
       "      <td>27.000000</td>\n",
       "    </tr>\n",
       "  </tbody>\n",
       "</table>\n",
       "</div>"
      ],
      "text/plain": [
       "               TV       Radio   Newspaper       Sales\n",
       "count  200.000000  200.000000  200.000000  200.000000\n",
       "mean   147.042500   23.264000   30.554000   14.022500\n",
       "std     85.854236   14.846809   21.778621    5.217457\n",
       "min      0.700000    0.000000    0.300000    1.600000\n",
       "25%     74.375000    9.975000   12.750000   10.375000\n",
       "50%    149.750000   22.900000   25.750000   12.900000\n",
       "75%    218.825000   36.525000   45.100000   17.400000\n",
       "max    296.400000   49.600000  114.000000   27.000000"
      ]
     },
     "execution_count": 6,
     "metadata": {},
     "output_type": "execute_result"
    }
   ],
   "source": [
    "advertising_multi.describe()"
   ]
  },
  {
   "cell_type": "markdown",
   "metadata": {},
   "source": [
    "### Step_2: Visualising Data"
   ]
  },
  {
   "cell_type": "code",
   "execution_count": 7,
   "metadata": {},
   "outputs": [],
   "source": [
    "import matplotlib.pyplot as plt\n",
    "import seaborn as sns\n",
    "%matplotlib inline\n"
   ]
  },
  {
   "cell_type": "code",
   "execution_count": 8,
   "metadata": {},
   "outputs": [
    {
     "data": {
      "text/plain": [
       "<seaborn.axisgrid.PairGrid at 0x24b571b1f28>"
      ]
     },
     "execution_count": 8,
     "metadata": {},
     "output_type": "execute_result"
    },
    {
     "data": {
      "image/png": "[encoded data removed]",
      "text/plain": [
       "<Figure size 720x720 with 20 Axes>"
      ]
     },
     "metadata": {
      "needs_background": "light"
     },
     "output_type": "display_data"
    }
   ],
   "source": [
    "# Let's  plot a pair of all variables in dataframe\n",
    "sns.pairplot(advertising_multi)"
   ]
  },
  {
   "cell_type": "code",
   "execution_count": 9,
   "metadata": {},
   "outputs": [
    {
     "name": "stderr",
     "output_type": "stream",
     "text": [
      "C:\\Users\\acer\\Anaconda3\\lib\\site-packages\\seaborn\\axisgrid.py:2065: UserWarning: The `size` parameter has been renamed to `height`; pleaes update your code.\n",
      "  warnings.warn(msg, UserWarning)\n"
     ]
    },
    {
     "data": {
      "text/plain": [
       "<seaborn.axisgrid.PairGrid at 0x24b59f76f28>"
      ]
     },
     "execution_count": 9,
     "metadata": {},
     "output_type": "execute_result"
    },
    {
     "data": {
      "image/png": "[encoded data removed]",
      "text/plain": [
       "<Figure size 1058.4x504 with 3 Axes>"
      ]
     },
     "metadata": {
      "needs_background": "light"
     },
     "output_type": "display_data"
    }
   ],
   "source": [
    "# Visualize the relationship between the features and the response using scatterplots\n",
    "sns.pairplot(advertising_multi, x_vars = ['TV', 'Radio', 'Newspaper'], y_vars = 'Sales', size=7, aspect = 0.7, kind = 'scatter')"
   ]
  },
  {
   "cell_type": "markdown",
   "metadata": {},
   "source": [
    "### Step_3: Splitting the Data for Training and Testing"
   ]
  },
  {
   "cell_type": "code",
   "execution_count": 10,
   "metadata": {},
   "outputs": [],
   "source": [
    "# Putting feature variable to X\n",
    "X = advertising_multi[['TV', 'Radio', 'Newspaper']]\n",
    "\n",
    "# Putting response variable to y\n",
    "y = advertising_multi['Sales']"
   ]
  },
  {
   "cell_type": "code",
   "execution_count": 11,
   "metadata": {},
   "outputs": [
    {
     "name": "stderr",
     "output_type": "stream",
     "text": [
      "C:\\Users\\acer\\Anaconda3\\lib\\site-packages\\sklearn\\model_selection\\_split.py:2179: FutureWarning: From version 0.21, test_size will always complement train_size unless both are specified.\n",
      "  FutureWarning)\n"
     ]
    }
   ],
   "source": [
    "# random state is seed using rand no generator. It can be an integer\n",
    "from sklearn.model_selection import train_test_split\n",
    "X_train, X_test, y_train, y_test = train_test_split(X, y, train_size = 0.7, random_state = 100)"
   ]
  },
  {
   "cell_type": "markdown",
   "metadata": {},
   "source": [
    "### Step_4 : Performing Linear Regression\n"
   ]
  },
  {
   "cell_type": "code",
   "execution_count": 12,
   "metadata": {},
   "outputs": [],
   "source": [
    "from sklearn.linear_model import LinearRegression"
   ]
  },
  {
   "cell_type": "code",
   "execution_count": 13,
   "metadata": {},
   "outputs": [],
   "source": [
    "lr = LinearRegression()"
   ]
  },
  {
   "cell_type": "code",
   "execution_count": 14,
   "metadata": {},
   "outputs": [
    {
     "data": {
      "text/plain": [
       "LinearRegression(copy_X=True, fit_intercept=True, n_jobs=None,\n",
       "         normalize=False)"
      ]
     },
     "execution_count": 14,
     "metadata": {},
     "output_type": "execute_result"
    }
   ],
   "source": [
    "lr.fit(X_train, y_train)"
   ]
  },
  {
   "cell_type": "markdown",
   "metadata": {},
   "source": [
    "### Step_5 : Model Evaluation"
   ]
  },
  {
   "cell_type": "code",
   "execution_count": 15,
   "metadata": {},
   "outputs": [
    {
     "name": "stdout",
     "output_type": "stream",
     "text": [
      "2.652789668879498\n"
     ]
    }
   ],
   "source": [
    "# print intercept\n",
    "print(lr.intercept_)"
   ]
  },
  {
   "cell_type": "code",
   "execution_count": 16,
   "metadata": {},
   "outputs": [
    {
     "name": "stdout",
     "output_type": "stream",
     "text": [
      "           Coefficient\n",
      "TV            0.045426\n",
      "Radio         0.189758\n",
      "Newspaper     0.004603\n"
     ]
    },
    {
     "data": {
      "text/html": [
       "<div>\n",
       "<style scoped>\n",
       "    .dataframe tbody tr th:only-of-type {\n",
       "        vertical-align: middle;\n",
       "    }\n",
       "\n",
       "    .dataframe tbody tr th {\n",
       "        vertical-align: top;\n",
       "    }\n",
       "\n",
       "    .dataframe thead th {\n",
       "        text-align: right;\n",
       "    }\n",
       "</style>\n",
       "<table border=\"1\" class=\"dataframe\">\n",
       "  <thead>\n",
       "    <tr style=\"text-align: right;\">\n",
       "      <th></th>\n",
       "      <th>Coefficient</th>\n",
       "    </tr>\n",
       "  </thead>\n",
       "  <tbody>\n",
       "    <tr>\n",
       "      <th>TV</th>\n",
       "      <td>0.045426</td>\n",
       "    </tr>\n",
       "    <tr>\n",
       "      <th>Radio</th>\n",
       "      <td>0.189758</td>\n",
       "    </tr>\n",
       "    <tr>\n",
       "      <th>Newspaper</th>\n",
       "      <td>0.004603</td>\n",
       "    </tr>\n",
       "  </tbody>\n",
       "</table>\n",
       "</div>"
      ],
      "text/plain": [
       "           Coefficient\n",
       "TV            0.045426\n",
       "Radio         0.189758\n",
       "Newspaper     0.004603"
      ]
     },
     "execution_count": 16,
     "metadata": {},
     "output_type": "execute_result"
    }
   ],
   "source": [
    "# let's see coefficient\n",
    "coeff_df = pd.DataFrame(lr.coef_, X_test.columns, columns = ['Coefficient'])\n",
    "print(coeff_df)\n",
    "coeff_df"
   ]
  },
  {
   "cell_type": "markdown",
   "metadata": {},
   "source": [
    "From the above result we may infern that if TV price increases by 1 unit it will affect sales by 0.045 units."
   ]
  },
  {
   "cell_type": "markdown",
   "metadata": {},
   "source": [
    "### Step_6 : Predictions"
   ]
  },
  {
   "cell_type": "code",
   "execution_count": 17,
   "metadata": {},
   "outputs": [],
   "source": [
    "# Making prediction using the model\n",
    "y_pred = lr.predict(X_test)"
   ]
  },
  {
   "cell_type": "markdown",
   "metadata": {},
   "source": [
    "### Step_7: Calculating Error Terms"
   ]
  },
  {
   "cell_type": "code",
   "execution_count": 18,
   "metadata": {},
   "outputs": [],
   "source": [
    "from sklearn.metrics import mean_squared_error, r2_score\n",
    "mse = mean_squared_error(y_test, y_pred)\n",
    "r_squared = r2_score(y_test, y_pred)"
   ]
  },
  {
   "cell_type": "code",
   "execution_count": 19,
   "metadata": {},
   "outputs": [
    {
     "name": "stdout",
     "output_type": "stream",
     "text": [
      "Mean Squared Error:  1.850681994163694\n",
      "R Square value:  0.9058622107532247\n"
     ]
    }
   ],
   "source": [
    "print('Mean Squared Error: ', mse)\n",
    "print('R Square value: ', r_squared)"
   ]
  },
  {
   "cell_type": "markdown",
   "metadata": {},
   "source": [
    "### Optional Step : Checking for P-value Using STATSMODELS\n"
   ]
  },
  {
   "cell_type": "code",
   "execution_count": 20,
   "metadata": {},
   "outputs": [
    {
     "name": "stderr",
     "output_type": "stream",
     "text": [
      "C:\\Users\\acer\\Anaconda3\\lib\\site-packages\\numpy\\core\\fromnumeric.py:2223: FutureWarning: Method .ptp is deprecated and will be removed in a future version. Use numpy.ptp instead.\n",
      "  return ptp(axis=axis, out=out, **kwargs)\n"
     ]
    },
    {
     "data": {
      "text/plain": [
       "const        2.652790\n",
       "TV           0.045426\n",
       "Radio        0.189758\n",
       "Newspaper    0.004603\n",
       "dtype: float64"
      ]
     },
     "execution_count": 20,
     "metadata": {},
     "output_type": "execute_result"
    }
   ],
   "source": [
    "import statsmodels.api as sm\n",
    "X_train_sm = X_train\n",
    "\n",
    "# Unlike sklearn, statsmodel doesn't automatically fit a constant\n",
    "# So you need to use the method sm.add_constant(X) in order to add a constant.\n",
    "\n",
    "X_train_sm = sm.add_constant(X_train_sm)\n",
    "\n",
    "#create a fitted model in one line\n",
    "lr_l = sm.OLS(y_train, X_train_sm).fit()\n",
    "\n",
    "# Print the coefficients\n",
    "lr_l.params"
   ]
  },
  {
   "cell_type": "code",
   "execution_count": 21,
   "metadata": {},
   "outputs": [
    {
     "name": "stdout",
     "output_type": "stream",
     "text": [
      "                            OLS Regression Results                            \n",
      "==============================================================================\n",
      "Dep. Variable:                  Sales   R-squared:                       0.893\n",
      "Model:                            OLS   Adj. R-squared:                  0.890\n",
      "Method:                 Least Squares   F-statistic:                     377.6\n",
      "Date:                Sat, 29 Jun 2019   Prob (F-statistic):           9.97e-66\n",
      "Time:                        23:32:47   Log-Likelihood:                -280.83\n",
      "No. Observations:                 140   AIC:                             569.7\n",
      "Df Residuals:                     136   BIC:                             581.4\n",
      "Df Model:                           3                                         \n",
      "Covariance Type:            nonrobust                                         \n",
      "==============================================================================\n",
      "                 coef    std err          t      P>|t|      [0.025      0.975]\n",
      "------------------------------------------------------------------------------\n",
      "const          2.6528      0.384      6.906      0.000       1.893       3.412\n",
      "TV             0.0454      0.002     27.093      0.000       0.042       0.049\n",
      "Radio          0.1898      0.011     17.009      0.000       0.168       0.212\n",
      "Newspaper      0.0046      0.008      0.613      0.541      -0.010       0.019\n",
      "==============================================================================\n",
      "Omnibus:                       40.095   Durbin-Watson:                   1.862\n",
      "Prob(Omnibus):                  0.000   Jarque-Bera (JB):               83.622\n",
      "Skew:                          -1.233   Prob(JB):                     6.94e-19\n",
      "Kurtosis:                       5.873   Cond. No.                         443.\n",
      "==============================================================================\n",
      "\n",
      "Warnings:\n",
      "[1] Standard Errors assume that the covariance matrix of the errors is correctly specified.\n"
     ]
    }
   ],
   "source": [
    "print(lr_l.summary())"
   ]
  },
  {
   "cell_type": "markdown",
   "metadata": {},
   "source": [
    "From the above we can see that Newspaper is insignificant."
   ]
  },
  {
   "cell_type": "code",
   "execution_count": 22,
   "metadata": {},
   "outputs": [],
   "source": [
    "import matplotlib.pyplot as plt\n",
    "import seaborn as sns\n",
    "%matplotlib inline"
   ]
  },
  {
   "cell_type": "code",
   "execution_count": 23,
   "metadata": {},
   "outputs": [
    {
     "data": {
      "text/plain": [
       "<matplotlib.axes._subplots.AxesSubplot at 0x24b5d5c7710>"
      ]
     },
     "execution_count": 23,
     "metadata": {},
     "output_type": "execute_result"
    },
    {
     "data": {
      "image/png": "[encoded data removed]",
      "text/plain": [
       "<Figure size 576x576 with 2 Axes>"
      ]
     },
     "metadata": {
      "needs_background": "light"
     },
     "output_type": "display_data"
    }
   ],
   "source": [
    "plt.figure(figsize = (8, 8))\n",
    "sns.heatmap(advertising_multi.corr(), annot = True)"
   ]
  },
  {
   "cell_type": "markdown",
   "metadata": {},
   "source": [
    "### Step_8 : Implementing the results and running the model again"
   ]
  },
  {
   "cell_type": "markdown",
   "metadata": {},
   "source": [
    "From the data above, you can conclude that Newspaper is insignificant."
   ]
  },
  {
   "cell_type": "code",
   "execution_count": 24,
   "metadata": {},
   "outputs": [],
   "source": [
    "# Removing Newspaper from our dataset\n",
    "X_train_new = X_train[['TV', 'Radio']]\n",
    "X_test_new = X_test[['TV', 'Radio']]"
   ]
  },
  {
   "cell_type": "code",
   "execution_count": 25,
   "metadata": {},
   "outputs": [
    {
     "data": {
      "text/plain": [
       "LinearRegression(copy_X=True, fit_intercept=True, n_jobs=None,\n",
       "         normalize=False)"
      ]
     },
     "execution_count": 25,
     "metadata": {},
     "output_type": "execute_result"
    }
   ],
   "source": [
    "# Model Building\n",
    "lr.fit(X_train_new, y_train)"
   ]
  },
  {
   "cell_type": "code",
   "execution_count": 26,
   "metadata": {},
   "outputs": [],
   "source": [
    "# Making predictions\n",
    "y_pred_new = lr.predict(X_test_new)"
   ]
  },
  {
   "cell_type": "code",
   "execution_count": 27,
   "metadata": {},
   "outputs": [
    {
     "data": {
      "text/plain": [
       "Text(0, 0.5, 'Sales')"
      ]
     },
     "execution_count": 27,
     "metadata": {},
     "output_type": "execute_result"
    },
    {
     "data": {
      "image/png": "[encoded data removed]",
      "text/plain": [
       "<Figure size 432x288 with 1 Axes>"
      ]
     },
     "metadata": {
      "needs_background": "light"
     },
     "output_type": "display_data"
    }
   ],
   "source": [
    "# Actual  values and predicted values\n",
    "c = [i for i in range(1,61,1)]\n",
    "\n",
    "fig = plt.figure()\n",
    "plt.plot(c, y_test, color = \"blue\", linewidth = 2.5, linestyle = \"-\")\n",
    "plt.plot(c, y_pred, color = \"red\", linewidth = 2.5, linestyle = \"-\")\n",
    "fig.suptitle('Actual and Predicted', fontsize = 20) #Plot Heading\n",
    "plt.xlabel('Index', fontsize = 18)                  # X-label\n",
    "plt.ylabel('Sales', fontsize = 16)                  # Y-label"
   ]
  },
  {
   "cell_type": "code",
   "execution_count": 28,
   "metadata": {},
   "outputs": [
    {
     "data": {
      "text/plain": [
       "Text(0, 0.5, 'y_test - y_pred')"
      ]
     },
     "execution_count": 28,
     "metadata": {},
     "output_type": "execute_result"
    },
    {
     "data": {
      "image/png": "[encoded data removed]",
      "text/plain": [
       "<Figure size 432x288 with 1 Axes>"
      ]
     },
     "metadata": {
      "needs_background": "light"
     },
     "output_type": "display_data"
    }
   ],
   "source": [
    "# Error Terms\n",
    "\n",
    "c = [i for i in range(1,61,1)]\n",
    "\n",
    "fig = plt.figure()\n",
    "plt.plot(c, y_test - y_pred, color = \"blue\", linewidth = 2.5, linestyle = \"-\")\n",
    "fig.suptitle('Error', fontsize = 20) #Plot Heading\n",
    "plt.xlabel('Index', fontsize = 18)                  # X-label\n",
    "plt.ylabel('y_test - y_pred', fontsize = 16)                  # Y-label"
   ]
  },
  {
   "cell_type": "code",
   "execution_count": 29,
   "metadata": {},
   "outputs": [
    {
     "data": {
      "text/plain": [
       "Text(0, 0.5, 'Sales(New)')"
      ]
     },
     "execution_count": 29,
     "metadata": {},
     "output_type": "execute_result"
    },
    {
     "data": {
      "image/png": "[encoded data removed]",
      "text/plain": [
       "<Figure size 432x288 with 1 Axes>"
      ]
     },
     "metadata": {
      "needs_background": "light"
     },
     "output_type": "display_data"
    }
   ],
   "source": [
    "# Actual  values and predicted values\n",
    "c = [i for i in range(1,61,1)]\n",
    "\n",
    "fig = plt.figure()\n",
    "plt.plot(c, y_test, color = \"blue\", linewidth = 2.5, linestyle = \"-\")\n",
    "plt.plot(c, y_pred_new, color = \"red\", linewidth = 2.5, linestyle = \"-\")\n",
    "fig.suptitle('Actual and Predicted', fontsize = 20) #Plot Heading\n",
    "plt.xlabel('Index', fontsize = 18)                  # X-label\n",
    "plt.ylabel('Sales(New)', fontsize = 16)                  # Y-label"
   ]
  },
  {
   "cell_type": "code",
   "execution_count": 30,
   "metadata": {},
   "outputs": [
    {
     "data": {
      "text/plain": [
       "Text(0, 0.5, 'y_test - y_pred (New)')"
      ]
     },
     "execution_count": 30,
     "metadata": {},
     "output_type": "execute_result"
    },
    {
     "data": {
      "image/png": "[encoded data removed]",
      "text/plain": [
       "<Figure size 432x288 with 1 Axes>"
      ]
     },
     "metadata": {
      "needs_background": "light"
     },
     "output_type": "display_data"
    }
   ],
   "source": [
    "# Error Terms\n",
    "\n",
    "c = [i for i in range(1,61,1)]\n",
    "\n",
    "fig = plt.figure()\n",
    "plt.plot(c, y_test - y_pred_new, color = \"blue\", linewidth = 2.5, linestyle = \"-\")\n",
    "fig.suptitle('Error', fontsize = 20) #Plot Heading\n",
    "plt.xlabel('Index', fontsize = 18)                  # X-label\n",
    "plt.ylabel('y_test - y_pred (New)', fontsize = 16)                  # Y-label"
   ]
  },
  {
   "cell_type": "code",
   "execution_count": 31,
   "metadata": {},
   "outputs": [],
   "source": [
    "from sklearn.metrics import mean_squared_error, r2_score\n",
    "mse = mean_squared_error(y_test, y_pred_new)\n",
    "r_squared = r2_score(y_test, y_pred_new)"
   ]
  },
  {
   "cell_type": "code",
   "execution_count": 32,
   "metadata": {},
   "outputs": [
    {
     "name": "stdout",
     "output_type": "stream",
     "text": [
      "Mean Squared Error:  1.784740052090281\n",
      "R Square value:  0.909216449171822\n"
     ]
    }
   ],
   "source": [
    "print('Mean Squared Error: ', mse)\n",
    "print('R Square value: ', r_squared)"
   ]
  },
  {
   "cell_type": "code",
   "execution_count": 33,
   "metadata": {},
   "outputs": [
    {
     "name": "stderr",
     "output_type": "stream",
     "text": [
      "C:\\Users\\acer\\Anaconda3\\lib\\site-packages\\numpy\\core\\fromnumeric.py:2223: FutureWarning: Method .ptp is deprecated and will be removed in a future version. Use numpy.ptp instead.\n",
      "  return ptp(axis=axis, out=out, **kwargs)\n"
     ]
    },
    {
     "data": {
      "text/plain": [
       "const    2.719040\n",
       "TV       0.045533\n",
       "Radio    0.192488\n",
       "dtype: float64"
      ]
     },
     "execution_count": 33,
     "metadata": {},
     "output_type": "execute_result"
    }
   ],
   "source": [
    "X_train_final = X_train_new\n",
    "\n",
    "# Unlike sklearn, statsmodel doesn't automatically fit a constant\n",
    "# So you need to use the method sm.add_constant(X) in order to add a constant.\n",
    "\n",
    "X_train_final = sm.add_constant(X_train_final)\n",
    "\n",
    "#create a fitted model in one line\n",
    "lr_final = sm.OLS(y_train, X_train_final).fit()\n",
    "\n",
    "# Print the coefficients\n",
    "lr_final.params"
   ]
  },
  {
   "cell_type": "code",
   "execution_count": 34,
   "metadata": {},
   "outputs": [
    {
     "name": "stdout",
     "output_type": "stream",
     "text": [
      "                 Results: Ordinary least squares\n",
      "=================================================================\n",
      "Model:              OLS              Adj. R-squared:     0.891   \n",
      "Dependent Variable: Sales            AIC:                568.0516\n",
      "Date:               2019-06-29 23:32 BIC:                576.8765\n",
      "No. Observations:   140              Log-Likelihood:     -281.03 \n",
      "Df Model:           2                F-statistic:        568.8   \n",
      "Df Residuals:       137              Prob (F-statistic): 4.46e-67\n",
      "R-squared:          0.893            Scale:              3.3149  \n",
      "--------------------------------------------------------------------\n",
      "         Coef.     Std.Err.       t       P>|t|     [0.025    0.975]\n",
      "--------------------------------------------------------------------\n",
      "const    2.7190      0.3678     7.3924    0.0000    1.9917    3.4464\n",
      "TV       0.0455      0.0017    27.3684    0.0000    0.0422    0.0488\n",
      "Radio    0.1925      0.0102    18.8597    0.0000    0.1723    0.2127\n",
      "-----------------------------------------------------------------\n",
      "Omnibus:              41.530       Durbin-Watson:          1.862 \n",
      "Prob(Omnibus):        0.000        Jarque-Bera (JB):       90.544\n",
      "Skew:                 -1.255       Prob(JB):               0.000 \n",
      "Kurtosis:             6.037        Condition No.:          419   \n",
      "=================================================================\n",
      "\n"
     ]
    }
   ],
   "source": [
    "print(lr_final.summary2())"
   ]
  },
  {
   "cell_type": "code",
   "execution_count": 35,
   "metadata": {},
   "outputs": [
    {
     "name": "stdout",
     "output_type": "stream",
     "text": [
      "                            OLS Regression Results                            \n",
      "==============================================================================\n",
      "Dep. Variable:                  Sales   R-squared:                       0.893\n",
      "Model:                            OLS   Adj. R-squared:                  0.891\n",
      "Method:                 Least Squares   F-statistic:                     568.8\n",
      "Date:                Sat, 29 Jun 2019   Prob (F-statistic):           4.46e-67\n",
      "Time:                        23:32:48   Log-Likelihood:                -281.03\n",
      "No. Observations:                 140   AIC:                             568.1\n",
      "Df Residuals:                     137   BIC:                             576.9\n",
      "Df Model:                           2                                         \n",
      "Covariance Type:            nonrobust                                         \n",
      "==============================================================================\n",
      "                 coef    std err          t      P>|t|      [0.025      0.975]\n",
      "------------------------------------------------------------------------------\n",
      "const          2.7190      0.368      7.392      0.000       1.992       3.446\n",
      "TV             0.0455      0.002     27.368      0.000       0.042       0.049\n",
      "Radio          0.1925      0.010     18.860      0.000       0.172       0.213\n",
      "==============================================================================\n",
      "Omnibus:                       41.530   Durbin-Watson:                   1.862\n",
      "Prob(Omnibus):                  0.000   Jarque-Bera (JB):               90.544\n",
      "Skew:                          -1.255   Prob(JB):                     2.18e-20\n",
      "Kurtosis:                       6.037   Cond. No.                         419.\n",
      "==============================================================================\n",
      "\n",
      "Warnings:\n",
      "[1] Standard Errors assume that the covariance matrix of the errors is correctly specified.\n"
     ]
    }
   ],
   "source": [
    "print(lr_final.summary())"
   ]
  },
  {
   "cell_type": "markdown",
   "metadata": {},
   "source": [
    "### Model Refinement Using RFE"
   ]
  },
  {
   "cell_type": "markdown",
   "metadata": {},
   "source": [
    "The goal of recursive feature elimination (RFE) is to select features by recursively considering smaller and smaller sets of features. First, the estimator is trained on the initial set of features and the importance of each feature is obtained either through a coef_ attribute or through a feature_importances_ attribute. Then, the less important features are pruned from the the current set of features. This procedure is recursively repeated on the pruned dataset until the desired number of features to select is reached."
   ]
  },
  {
   "cell_type": "code",
   "execution_count": 36,
   "metadata": {},
   "outputs": [],
   "source": [
    "from sklearn.feature_selection import RFE"
   ]
  },
  {
   "cell_type": "code",
   "execution_count": 37,
   "metadata": {},
   "outputs": [],
   "source": [
    "rfe = RFE(lr, 2)\n"
   ]
  },
  {
   "cell_type": "code",
   "execution_count": 38,
   "metadata": {},
   "outputs": [],
   "source": [
    "rfe = rfe.fit(X_train, y_train)\n"
   ]
  },
  {
   "cell_type": "code",
   "execution_count": 39,
   "metadata": {},
   "outputs": [
    {
     "name": "stdout",
     "output_type": "stream",
     "text": [
      "[ True  True False]\n",
      "[1 1 2]\n"
     ]
    }
   ],
   "source": [
    "print(rfe.support_)\n",
    "print(rfe.ranking_)"
   ]
  },
  {
   "cell_type": "markdown",
   "metadata": {},
   "source": [
    "### Simple Linear Regression: Newspaper(X) and Sales(y)"
   ]
  },
  {
   "cell_type": "code",
   "execution_count": 41,
   "metadata": {},
   "outputs": [
    {
     "name": "stdout",
     "output_type": "stream",
     "text": [
      "Mean Squared Error:  22.783129716276214\n",
      "R Square value:  -0.1588989736629216\n"
     ]
    },
    {
     "name": "stderr",
     "output_type": "stream",
     "text": [
      "C:\\Users\\acer\\Anaconda3\\lib\\site-packages\\sklearn\\model_selection\\_split.py:2179: FutureWarning: From version 0.21, test_size will always complement train_size unless both are specified.\n",
      "  FutureWarning)\n"
     ]
    }
   ],
   "source": [
    "import pandas as pd \n",
    "import numpy as np\n",
    "\n",
    "#Importing dataset \n",
    "\n",
    "advertising_multi = pd.read_csv('Datasets/advertising.csv')\n",
    "x_news = advertising_multi['Newspaper']\n",
    "y_news = advertising_multi['Sales']\n",
    "\n",
    "#Data Split\n",
    "from sklearn.model_selection import train_test_split\n",
    "\n",
    "X_train, X_test, y_train, y_test = train_test_split(x_news, y_news, \n",
    "                                                   train_size = 0.7, \n",
    "                                                   random_state = 100)\n",
    "\n",
    "#reqd only in simple LR \n",
    "X_train = X_train[:, np.newaxis]\n",
    "X_test = X_test[:, np.newaxis]\n",
    "\n",
    "\n",
    "lr1 = LinearRegression()\n",
    "\n",
    "lr1.fit(X_train, y_train)\n",
    "\n",
    "y_pred1 = lr1.predict(X_test)\n",
    "\n",
    "mse = mean_squared_error(y_test, y_pred1)\n",
    "r_squared = r2_score(y_test, y_pred1)\n",
    "\n",
    "#Printing mean square error and R square value\n",
    "\n",
    "print('Mean Squared Error: ', mse)\n",
    "print('R Square value: ', r_squared)"
   ]
  },
  {
   "cell_type": "markdown",
   "metadata": {},
   "source": [
    "## SECOND CASE STUDY"
   ]
  },
  {
   "cell_type": "markdown",
   "metadata": {},
   "source": [
    "## Housing Case Study"
   ]
  },
  {
   "cell_type": "markdown",
   "metadata": {},
   "source": [
    "Problem Statement:\n",
    "\n",
    "Consider a real estate company that has a dataset containing the prices of properties in the Delhi region. It wishes to use the data to optimise the sale prices of the properties based on important factors such as area, bedrooms, parking, etc.\n",
    "\n",
    "Essentially, the company wants —\n",
    "\n",
    "\n",
    "- To identify the variables affecting house prices, e.g. area, number of rooms, bathrooms, etc.\n",
    "\n",
    "- To create a linear model that quantitatively relates house prices with variables such as number of rooms, area, number of bathrooms, etc.\n",
    "\n",
    "- To know the accuracy of the model, i.e. how well these variables can predict house prices."
   ]
  },
  {
   "cell_type": "markdown",
   "metadata": {},
   "source": [
    "### Importing and Understanding Data"
   ]
  },
  {
   "cell_type": "code",
   "execution_count": 42,
   "metadata": {},
   "outputs": [],
   "source": [
    "import pandas as pd\n",
    "import numpy as np"
   ]
  },
  {
   "cell_type": "code",
   "execution_count": 43,
   "metadata": {},
   "outputs": [],
   "source": [
    "# Importing Housing.csv\n",
    "housing = pd.read_csv(\"Datasets/Housing.csv\")\n"
   ]
  },
  {
   "cell_type": "code",
   "execution_count": 44,
   "metadata": {},
   "outputs": [
    {
     "data": {
      "text/html": [
       "<div>\n",
       "<style scoped>\n",
       "    .dataframe tbody tr th:only-of-type {\n",
       "        vertical-align: middle;\n",
       "    }\n",
       "\n",
       "    .dataframe tbody tr th {\n",
       "        vertical-align: top;\n",
       "    }\n",
       "\n",
       "    .dataframe thead th {\n",
       "        text-align: right;\n",
       "    }\n",
       "</style>\n",
       "<table border=\"1\" class=\"dataframe\">\n",
       "  <thead>\n",
       "    <tr style=\"text-align: right;\">\n",
       "      <th></th>\n",
       "      <th>price</th>\n",
       "      <th>area</th>\n",
       "      <th>bedrooms</th>\n",
       "      <th>bathrooms</th>\n",
       "      <th>stories</th>\n",
       "      <th>mainroad</th>\n",
       "      <th>guestroom</th>\n",
       "      <th>basement</th>\n",
       "      <th>hotwaterheating</th>\n",
       "      <th>airconditioning</th>\n",
       "      <th>parking</th>\n",
       "      <th>prefarea</th>\n",
       "      <th>furnishingstatus</th>\n",
       "    </tr>\n",
       "  </thead>\n",
       "  <tbody>\n",
       "    <tr>\n",
       "      <th>0</th>\n",
       "      <td>13300000</td>\n",
       "      <td>7420</td>\n",
       "      <td>4</td>\n",
       "      <td>2</td>\n",
       "      <td>3</td>\n",
       "      <td>yes</td>\n",
       "      <td>no</td>\n",
       "      <td>no</td>\n",
       "      <td>no</td>\n",
       "      <td>yes</td>\n",
       "      <td>2</td>\n",
       "      <td>yes</td>\n",
       "      <td>furnished</td>\n",
       "    </tr>\n",
       "    <tr>\n",
       "      <th>1</th>\n",
       "      <td>12250000</td>\n",
       "      <td>8960</td>\n",
       "      <td>4</td>\n",
       "      <td>4</td>\n",
       "      <td>4</td>\n",
       "      <td>yes</td>\n",
       "      <td>no</td>\n",
       "      <td>no</td>\n",
       "      <td>no</td>\n",
       "      <td>yes</td>\n",
       "      <td>3</td>\n",
       "      <td>no</td>\n",
       "      <td>furnished</td>\n",
       "    </tr>\n",
       "    <tr>\n",
       "      <th>2</th>\n",
       "      <td>12250000</td>\n",
       "      <td>9960</td>\n",
       "      <td>3</td>\n",
       "      <td>2</td>\n",
       "      <td>2</td>\n",
       "      <td>yes</td>\n",
       "      <td>no</td>\n",
       "      <td>yes</td>\n",
       "      <td>no</td>\n",
       "      <td>no</td>\n",
       "      <td>2</td>\n",
       "      <td>yes</td>\n",
       "      <td>semi-furnished</td>\n",
       "    </tr>\n",
       "    <tr>\n",
       "      <th>3</th>\n",
       "      <td>12215000</td>\n",
       "      <td>7500</td>\n",
       "      <td>4</td>\n",
       "      <td>2</td>\n",
       "      <td>2</td>\n",
       "      <td>yes</td>\n",
       "      <td>no</td>\n",
       "      <td>yes</td>\n",
       "      <td>no</td>\n",
       "      <td>yes</td>\n",
       "      <td>3</td>\n",
       "      <td>yes</td>\n",
       "      <td>furnished</td>\n",
       "    </tr>\n",
       "    <tr>\n",
       "      <th>4</th>\n",
       "      <td>11410000</td>\n",
       "      <td>7420</td>\n",
       "      <td>4</td>\n",
       "      <td>1</td>\n",
       "      <td>2</td>\n",
       "      <td>yes</td>\n",
       "      <td>yes</td>\n",
       "      <td>yes</td>\n",
       "      <td>no</td>\n",
       "      <td>yes</td>\n",
       "      <td>2</td>\n",
       "      <td>no</td>\n",
       "      <td>furnished</td>\n",
       "    </tr>\n",
       "  </tbody>\n",
       "</table>\n",
       "</div>"
      ],
      "text/plain": [
       "      price  area  bedrooms  bathrooms  stories mainroad guestroom basement  \\\n",
       "0  13300000  7420         4          2        3      yes        no       no   \n",
       "1  12250000  8960         4          4        4      yes        no       no   \n",
       "2  12250000  9960         3          2        2      yes        no      yes   \n",
       "3  12215000  7500         4          2        2      yes        no      yes   \n",
       "4  11410000  7420         4          1        2      yes       yes      yes   \n",
       "\n",
       "  hotwaterheating airconditioning  parking prefarea furnishingstatus  \n",
       "0              no             yes        2      yes        furnished  \n",
       "1              no             yes        3       no        furnished  \n",
       "2              no              no        2      yes   semi-furnished  \n",
       "3              no             yes        3      yes        furnished  \n",
       "4              no             yes        2       no        furnished  "
      ]
     },
     "execution_count": 44,
     "metadata": {},
     "output_type": "execute_result"
    }
   ],
   "source": [
    "housing.head()"
   ]
  },
  {
   "cell_type": "code",
   "execution_count": 45,
   "metadata": {},
   "outputs": [
    {
     "data": {
      "text/html": [
       "<div>\n",
       "<style scoped>\n",
       "    .dataframe tbody tr th:only-of-type {\n",
       "        vertical-align: middle;\n",
       "    }\n",
       "\n",
       "    .dataframe tbody tr th {\n",
       "        vertical-align: top;\n",
       "    }\n",
       "\n",
       "    .dataframe thead th {\n",
       "        text-align: right;\n",
       "    }\n",
       "</style>\n",
       "<table border=\"1\" class=\"dataframe\">\n",
       "  <thead>\n",
       "    <tr style=\"text-align: right;\">\n",
       "      <th></th>\n",
       "      <th>price</th>\n",
       "      <th>area</th>\n",
       "      <th>bedrooms</th>\n",
       "      <th>bathrooms</th>\n",
       "      <th>stories</th>\n",
       "      <th>mainroad</th>\n",
       "      <th>guestroom</th>\n",
       "      <th>basement</th>\n",
       "      <th>hotwaterheating</th>\n",
       "      <th>airconditioning</th>\n",
       "      <th>parking</th>\n",
       "      <th>prefarea</th>\n",
       "      <th>furnishingstatus</th>\n",
       "    </tr>\n",
       "  </thead>\n",
       "  <tbody>\n",
       "    <tr>\n",
       "      <th>540</th>\n",
       "      <td>1820000</td>\n",
       "      <td>3000</td>\n",
       "      <td>2</td>\n",
       "      <td>1</td>\n",
       "      <td>1</td>\n",
       "      <td>yes</td>\n",
       "      <td>no</td>\n",
       "      <td>yes</td>\n",
       "      <td>no</td>\n",
       "      <td>no</td>\n",
       "      <td>2</td>\n",
       "      <td>no</td>\n",
       "      <td>unfurnished</td>\n",
       "    </tr>\n",
       "    <tr>\n",
       "      <th>541</th>\n",
       "      <td>1767150</td>\n",
       "      <td>2400</td>\n",
       "      <td>3</td>\n",
       "      <td>1</td>\n",
       "      <td>1</td>\n",
       "      <td>no</td>\n",
       "      <td>no</td>\n",
       "      <td>no</td>\n",
       "      <td>no</td>\n",
       "      <td>no</td>\n",
       "      <td>0</td>\n",
       "      <td>no</td>\n",
       "      <td>semi-furnished</td>\n",
       "    </tr>\n",
       "    <tr>\n",
       "      <th>542</th>\n",
       "      <td>1750000</td>\n",
       "      <td>3620</td>\n",
       "      <td>2</td>\n",
       "      <td>1</td>\n",
       "      <td>1</td>\n",
       "      <td>yes</td>\n",
       "      <td>no</td>\n",
       "      <td>no</td>\n",
       "      <td>no</td>\n",
       "      <td>no</td>\n",
       "      <td>0</td>\n",
       "      <td>no</td>\n",
       "      <td>unfurnished</td>\n",
       "    </tr>\n",
       "    <tr>\n",
       "      <th>543</th>\n",
       "      <td>1750000</td>\n",
       "      <td>2910</td>\n",
       "      <td>3</td>\n",
       "      <td>1</td>\n",
       "      <td>1</td>\n",
       "      <td>no</td>\n",
       "      <td>no</td>\n",
       "      <td>no</td>\n",
       "      <td>no</td>\n",
       "      <td>no</td>\n",
       "      <td>0</td>\n",
       "      <td>no</td>\n",
       "      <td>furnished</td>\n",
       "    </tr>\n",
       "    <tr>\n",
       "      <th>544</th>\n",
       "      <td>1750000</td>\n",
       "      <td>3850</td>\n",
       "      <td>3</td>\n",
       "      <td>1</td>\n",
       "      <td>2</td>\n",
       "      <td>yes</td>\n",
       "      <td>no</td>\n",
       "      <td>no</td>\n",
       "      <td>no</td>\n",
       "      <td>no</td>\n",
       "      <td>0</td>\n",
       "      <td>no</td>\n",
       "      <td>unfurnished</td>\n",
       "    </tr>\n",
       "  </tbody>\n",
       "</table>\n",
       "</div>"
      ],
      "text/plain": [
       "       price  area  bedrooms  bathrooms  stories mainroad guestroom basement  \\\n",
       "540  1820000  3000         2          1        1      yes        no      yes   \n",
       "541  1767150  2400         3          1        1       no        no       no   \n",
       "542  1750000  3620         2          1        1      yes        no       no   \n",
       "543  1750000  2910         3          1        1       no        no       no   \n",
       "544  1750000  3850         3          1        2      yes        no       no   \n",
       "\n",
       "    hotwaterheating airconditioning  parking prefarea furnishingstatus  \n",
       "540              no              no        2       no      unfurnished  \n",
       "541              no              no        0       no   semi-furnished  \n",
       "542              no              no        0       no      unfurnished  \n",
       "543              no              no        0       no        furnished  \n",
       "544              no              no        0       no      unfurnished  "
      ]
     },
     "execution_count": 45,
     "metadata": {},
     "output_type": "execute_result"
    }
   ],
   "source": [
    "housing.tail()"
   ]
  },
  {
   "cell_type": "code",
   "execution_count": 46,
   "metadata": {},
   "outputs": [
    {
     "name": "stdout",
     "output_type": "stream",
     "text": [
      "<class 'pandas.core.frame.DataFrame'>\n",
      "RangeIndex: 545 entries, 0 to 544\n",
      "Data columns (total 13 columns):\n",
      "price               545 non-null int64\n",
      "area                545 non-null int64\n",
      "bedrooms            545 non-null int64\n",
      "bathrooms           545 non-null int64\n",
      "stories             545 non-null int64\n",
      "mainroad            545 non-null object\n",
      "guestroom           545 non-null object\n",
      "basement            545 non-null object\n",
      "hotwaterheating     545 non-null object\n",
      "airconditioning     545 non-null object\n",
      "parking             545 non-null int64\n",
      "prefarea            545 non-null object\n",
      "furnishingstatus    545 non-null object\n",
      "dtypes: int64(6), object(7)\n",
      "memory usage: 55.4+ KB\n"
     ]
    }
   ],
   "source": [
    "housing.info()"
   ]
  },
  {
   "cell_type": "markdown",
   "metadata": {},
   "source": [
    "### Data Preparation"
   ]
  },
  {
   "cell_type": "markdown",
   "metadata": {},
   "source": [
    "- You can see that your dataset has many columns with values as 'Yes' or 'No'.\n",
    "\n",
    "- We need to convert them to 1s and 0s, where 1 is a 'Yes' and 0 is a 'No'."
   ]
  },
  {
   "cell_type": "code",
   "execution_count": 47,
   "metadata": {},
   "outputs": [],
   "source": [
    "# Converting yes to 1 an No to 0\n",
    "housing['mainroad'] = housing['mainroad'].map({'yes': 1, 'no':0})\n",
    "housing['guestroom'] = housing['guestroom'].map({'yes': 1, 'no':0}) \n",
    "housing['basement'] = housing['basement'].map({'yes': 1, 'no':0}) \n",
    "housing['hotwaterheating'] = housing['hotwaterheating'].map({'yes': 1, 'no':0}) \n",
    "housing['airconditioning'] = housing['airconditioning'].map({'yes': 1, 'no':0}) \n",
    "housing['prefarea'] = housing['prefarea'].map({'yes': 1, 'no':0}) "
   ]
  },
  {
   "cell_type": "code",
   "execution_count": 48,
   "metadata": {},
   "outputs": [
    {
     "data": {
      "text/html": [
       "<div>\n",
       "<style scoped>\n",
       "    .dataframe tbody tr th:only-of-type {\n",
       "        vertical-align: middle;\n",
       "    }\n",
       "\n",
       "    .dataframe tbody tr th {\n",
       "        vertical-align: top;\n",
       "    }\n",
       "\n",
       "    .dataframe thead th {\n",
       "        text-align: right;\n",
       "    }\n",
       "</style>\n",
       "<table border=\"1\" class=\"dataframe\">\n",
       "  <thead>\n",
       "    <tr style=\"text-align: right;\">\n",
       "      <th></th>\n",
       "      <th>price</th>\n",
       "      <th>area</th>\n",
       "      <th>bedrooms</th>\n",
       "      <th>bathrooms</th>\n",
       "      <th>stories</th>\n",
       "      <th>mainroad</th>\n",
       "      <th>guestroom</th>\n",
       "      <th>basement</th>\n",
       "      <th>hotwaterheating</th>\n",
       "      <th>airconditioning</th>\n",
       "      <th>parking</th>\n",
       "      <th>prefarea</th>\n",
       "      <th>furnishingstatus</th>\n",
       "    </tr>\n",
       "  </thead>\n",
       "  <tbody>\n",
       "    <tr>\n",
       "      <th>0</th>\n",
       "      <td>13300000</td>\n",
       "      <td>7420</td>\n",
       "      <td>4</td>\n",
       "      <td>2</td>\n",
       "      <td>3</td>\n",
       "      <td>1</td>\n",
       "      <td>0</td>\n",
       "      <td>0</td>\n",
       "      <td>0</td>\n",
       "      <td>1</td>\n",
       "      <td>2</td>\n",
       "      <td>1</td>\n",
       "      <td>furnished</td>\n",
       "    </tr>\n",
       "    <tr>\n",
       "      <th>1</th>\n",
       "      <td>12250000</td>\n",
       "      <td>8960</td>\n",
       "      <td>4</td>\n",
       "      <td>4</td>\n",
       "      <td>4</td>\n",
       "      <td>1</td>\n",
       "      <td>0</td>\n",
       "      <td>0</td>\n",
       "      <td>0</td>\n",
       "      <td>1</td>\n",
       "      <td>3</td>\n",
       "      <td>0</td>\n",
       "      <td>furnished</td>\n",
       "    </tr>\n",
       "    <tr>\n",
       "      <th>2</th>\n",
       "      <td>12250000</td>\n",
       "      <td>9960</td>\n",
       "      <td>3</td>\n",
       "      <td>2</td>\n",
       "      <td>2</td>\n",
       "      <td>1</td>\n",
       "      <td>0</td>\n",
       "      <td>1</td>\n",
       "      <td>0</td>\n",
       "      <td>0</td>\n",
       "      <td>2</td>\n",
       "      <td>1</td>\n",
       "      <td>semi-furnished</td>\n",
       "    </tr>\n",
       "    <tr>\n",
       "      <th>3</th>\n",
       "      <td>12215000</td>\n",
       "      <td>7500</td>\n",
       "      <td>4</td>\n",
       "      <td>2</td>\n",
       "      <td>2</td>\n",
       "      <td>1</td>\n",
       "      <td>0</td>\n",
       "      <td>1</td>\n",
       "      <td>0</td>\n",
       "      <td>1</td>\n",
       "      <td>3</td>\n",
       "      <td>1</td>\n",
       "      <td>furnished</td>\n",
       "    </tr>\n",
       "    <tr>\n",
       "      <th>4</th>\n",
       "      <td>11410000</td>\n",
       "      <td>7420</td>\n",
       "      <td>4</td>\n",
       "      <td>1</td>\n",
       "      <td>2</td>\n",
       "      <td>1</td>\n",
       "      <td>1</td>\n",
       "      <td>1</td>\n",
       "      <td>0</td>\n",
       "      <td>1</td>\n",
       "      <td>2</td>\n",
       "      <td>0</td>\n",
       "      <td>furnished</td>\n",
       "    </tr>\n",
       "  </tbody>\n",
       "</table>\n",
       "</div>"
      ],
      "text/plain": [
       "      price  area  bedrooms  bathrooms  stories  mainroad  guestroom  \\\n",
       "0  13300000  7420         4          2        3         1          0   \n",
       "1  12250000  8960         4          4        4         1          0   \n",
       "2  12250000  9960         3          2        2         1          0   \n",
       "3  12215000  7500         4          2        2         1          0   \n",
       "4  11410000  7420         4          1        2         1          1   \n",
       "\n",
       "   basement  hotwaterheating  airconditioning  parking  prefarea  \\\n",
       "0         0                0                1        2         1   \n",
       "1         0                0                1        3         0   \n",
       "2         1                0                0        2         1   \n",
       "3         1                0                1        3         1   \n",
       "4         1                0                1        2         0   \n",
       "\n",
       "  furnishingstatus  \n",
       "0        furnished  \n",
       "1        furnished  \n",
       "2   semi-furnished  \n",
       "3        furnished  \n",
       "4        furnished  "
      ]
     },
     "execution_count": 48,
     "metadata": {},
     "output_type": "execute_result"
    }
   ],
   "source": [
    "housing.head()"
   ]
  },
  {
   "cell_type": "markdown",
   "metadata": {},
   "source": [
    "The variable 'furnishingstatus' had three levels. We need to convert it to integer."
   ]
  },
  {
   "cell_type": "code",
   "execution_count": 49,
   "metadata": {},
   "outputs": [],
   "source": [
    "# Creating a dummy variable for 'furnishingstatus'\n",
    "status = pd.get_dummies(housing['furnishingstatus'])"
   ]
  },
  {
   "cell_type": "code",
   "execution_count": 50,
   "metadata": {},
   "outputs": [
    {
     "data": {
      "text/html": [
       "<div>\n",
       "<style scoped>\n",
       "    .dataframe tbody tr th:only-of-type {\n",
       "        vertical-align: middle;\n",
       "    }\n",
       "\n",
       "    .dataframe tbody tr th {\n",
       "        vertical-align: top;\n",
       "    }\n",
       "\n",
       "    .dataframe thead th {\n",
       "        text-align: right;\n",
       "    }\n",
       "</style>\n",
       "<table border=\"1\" class=\"dataframe\">\n",
       "  <thead>\n",
       "    <tr style=\"text-align: right;\">\n",
       "      <th></th>\n",
       "      <th>furnished</th>\n",
       "      <th>semi-furnished</th>\n",
       "      <th>unfurnished</th>\n",
       "    </tr>\n",
       "  </thead>\n",
       "  <tbody>\n",
       "    <tr>\n",
       "      <th>0</th>\n",
       "      <td>1</td>\n",
       "      <td>0</td>\n",
       "      <td>0</td>\n",
       "    </tr>\n",
       "    <tr>\n",
       "      <th>1</th>\n",
       "      <td>1</td>\n",
       "      <td>0</td>\n",
       "      <td>0</td>\n",
       "    </tr>\n",
       "    <tr>\n",
       "      <th>2</th>\n",
       "      <td>0</td>\n",
       "      <td>1</td>\n",
       "      <td>0</td>\n",
       "    </tr>\n",
       "    <tr>\n",
       "      <th>3</th>\n",
       "      <td>1</td>\n",
       "      <td>0</td>\n",
       "      <td>0</td>\n",
       "    </tr>\n",
       "    <tr>\n",
       "      <th>4</th>\n",
       "      <td>1</td>\n",
       "      <td>0</td>\n",
       "      <td>0</td>\n",
       "    </tr>\n",
       "  </tbody>\n",
       "</table>\n",
       "</div>"
      ],
      "text/plain": [
       "   furnished  semi-furnished  unfurnished\n",
       "0          1               0            0\n",
       "1          1               0            0\n",
       "2          0               1            0\n",
       "3          1               0            0\n",
       "4          1               0            0"
      ]
     },
     "execution_count": 50,
     "metadata": {},
     "output_type": "execute_result"
    }
   ],
   "source": [
    "status.head()"
   ]
  },
  {
   "cell_type": "code",
   "execution_count": 51,
   "metadata": {},
   "outputs": [],
   "source": [
    "# don't need 3 columns \n",
    "# can use drop_first = True to drop the first column from status df\n",
    "status = pd.get_dummies(housing['furnishingstatus'], drop_first=True)"
   ]
  },
  {
   "cell_type": "code",
   "execution_count": 52,
   "metadata": {},
   "outputs": [
    {
     "data": {
      "text/html": [
       "<div>\n",
       "<style scoped>\n",
       "    .dataframe tbody tr th:only-of-type {\n",
       "        vertical-align: middle;\n",
       "    }\n",
       "\n",
       "    .dataframe tbody tr th {\n",
       "        vertical-align: top;\n",
       "    }\n",
       "\n",
       "    .dataframe thead th {\n",
       "        text-align: right;\n",
       "    }\n",
       "</style>\n",
       "<table border=\"1\" class=\"dataframe\">\n",
       "  <thead>\n",
       "    <tr style=\"text-align: right;\">\n",
       "      <th></th>\n",
       "      <th>semi-furnished</th>\n",
       "      <th>unfurnished</th>\n",
       "    </tr>\n",
       "  </thead>\n",
       "  <tbody>\n",
       "    <tr>\n",
       "      <th>0</th>\n",
       "      <td>0</td>\n",
       "      <td>0</td>\n",
       "    </tr>\n",
       "    <tr>\n",
       "      <th>1</th>\n",
       "      <td>0</td>\n",
       "      <td>0</td>\n",
       "    </tr>\n",
       "    <tr>\n",
       "      <th>2</th>\n",
       "      <td>1</td>\n",
       "      <td>0</td>\n",
       "    </tr>\n",
       "    <tr>\n",
       "      <th>3</th>\n",
       "      <td>0</td>\n",
       "      <td>0</td>\n",
       "    </tr>\n",
       "    <tr>\n",
       "      <th>4</th>\n",
       "      <td>0</td>\n",
       "      <td>0</td>\n",
       "    </tr>\n",
       "    <tr>\n",
       "      <th>5</th>\n",
       "      <td>1</td>\n",
       "      <td>0</td>\n",
       "    </tr>\n",
       "    <tr>\n",
       "      <th>6</th>\n",
       "      <td>1</td>\n",
       "      <td>0</td>\n",
       "    </tr>\n",
       "    <tr>\n",
       "      <th>7</th>\n",
       "      <td>0</td>\n",
       "      <td>1</td>\n",
       "    </tr>\n",
       "    <tr>\n",
       "      <th>8</th>\n",
       "      <td>0</td>\n",
       "      <td>0</td>\n",
       "    </tr>\n",
       "    <tr>\n",
       "      <th>9</th>\n",
       "      <td>0</td>\n",
       "      <td>1</td>\n",
       "    </tr>\n",
       "    <tr>\n",
       "      <th>10</th>\n",
       "      <td>0</td>\n",
       "      <td>0</td>\n",
       "    </tr>\n",
       "    <tr>\n",
       "      <th>11</th>\n",
       "      <td>1</td>\n",
       "      <td>0</td>\n",
       "    </tr>\n",
       "    <tr>\n",
       "      <th>12</th>\n",
       "      <td>1</td>\n",
       "      <td>0</td>\n",
       "    </tr>\n",
       "    <tr>\n",
       "      <th>13</th>\n",
       "      <td>0</td>\n",
       "      <td>0</td>\n",
       "    </tr>\n",
       "    <tr>\n",
       "      <th>14</th>\n",
       "      <td>1</td>\n",
       "      <td>0</td>\n",
       "    </tr>\n",
       "    <tr>\n",
       "      <th>15</th>\n",
       "      <td>1</td>\n",
       "      <td>0</td>\n",
       "    </tr>\n",
       "    <tr>\n",
       "      <th>16</th>\n",
       "      <td>0</td>\n",
       "      <td>1</td>\n",
       "    </tr>\n",
       "    <tr>\n",
       "      <th>17</th>\n",
       "      <td>0</td>\n",
       "      <td>0</td>\n",
       "    </tr>\n",
       "    <tr>\n",
       "      <th>18</th>\n",
       "      <td>0</td>\n",
       "      <td>0</td>\n",
       "    </tr>\n",
       "    <tr>\n",
       "      <th>19</th>\n",
       "      <td>1</td>\n",
       "      <td>0</td>\n",
       "    </tr>\n",
       "    <tr>\n",
       "      <th>20</th>\n",
       "      <td>1</td>\n",
       "      <td>0</td>\n",
       "    </tr>\n",
       "    <tr>\n",
       "      <th>21</th>\n",
       "      <td>0</td>\n",
       "      <td>1</td>\n",
       "    </tr>\n",
       "    <tr>\n",
       "      <th>22</th>\n",
       "      <td>0</td>\n",
       "      <td>0</td>\n",
       "    </tr>\n",
       "    <tr>\n",
       "      <th>23</th>\n",
       "      <td>0</td>\n",
       "      <td>0</td>\n",
       "    </tr>\n",
       "    <tr>\n",
       "      <th>24</th>\n",
       "      <td>0</td>\n",
       "      <td>0</td>\n",
       "    </tr>\n",
       "    <tr>\n",
       "      <th>25</th>\n",
       "      <td>0</td>\n",
       "      <td>0</td>\n",
       "    </tr>\n",
       "    <tr>\n",
       "      <th>26</th>\n",
       "      <td>1</td>\n",
       "      <td>0</td>\n",
       "    </tr>\n",
       "    <tr>\n",
       "      <th>27</th>\n",
       "      <td>1</td>\n",
       "      <td>0</td>\n",
       "    </tr>\n",
       "    <tr>\n",
       "      <th>28</th>\n",
       "      <td>0</td>\n",
       "      <td>1</td>\n",
       "    </tr>\n",
       "    <tr>\n",
       "      <th>29</th>\n",
       "      <td>1</td>\n",
       "      <td>0</td>\n",
       "    </tr>\n",
       "    <tr>\n",
       "      <th>...</th>\n",
       "      <td>...</td>\n",
       "      <td>...</td>\n",
       "    </tr>\n",
       "    <tr>\n",
       "      <th>515</th>\n",
       "      <td>0</td>\n",
       "      <td>1</td>\n",
       "    </tr>\n",
       "    <tr>\n",
       "      <th>516</th>\n",
       "      <td>0</td>\n",
       "      <td>1</td>\n",
       "    </tr>\n",
       "    <tr>\n",
       "      <th>517</th>\n",
       "      <td>0</td>\n",
       "      <td>1</td>\n",
       "    </tr>\n",
       "    <tr>\n",
       "      <th>518</th>\n",
       "      <td>0</td>\n",
       "      <td>1</td>\n",
       "    </tr>\n",
       "    <tr>\n",
       "      <th>519</th>\n",
       "      <td>0</td>\n",
       "      <td>1</td>\n",
       "    </tr>\n",
       "    <tr>\n",
       "      <th>520</th>\n",
       "      <td>0</td>\n",
       "      <td>1</td>\n",
       "    </tr>\n",
       "    <tr>\n",
       "      <th>521</th>\n",
       "      <td>0</td>\n",
       "      <td>1</td>\n",
       "    </tr>\n",
       "    <tr>\n",
       "      <th>522</th>\n",
       "      <td>0</td>\n",
       "      <td>0</td>\n",
       "    </tr>\n",
       "    <tr>\n",
       "      <th>523</th>\n",
       "      <td>0</td>\n",
       "      <td>0</td>\n",
       "    </tr>\n",
       "    <tr>\n",
       "      <th>524</th>\n",
       "      <td>0</td>\n",
       "      <td>1</td>\n",
       "    </tr>\n",
       "    <tr>\n",
       "      <th>525</th>\n",
       "      <td>0</td>\n",
       "      <td>1</td>\n",
       "    </tr>\n",
       "    <tr>\n",
       "      <th>526</th>\n",
       "      <td>0</td>\n",
       "      <td>1</td>\n",
       "    </tr>\n",
       "    <tr>\n",
       "      <th>527</th>\n",
       "      <td>1</td>\n",
       "      <td>0</td>\n",
       "    </tr>\n",
       "    <tr>\n",
       "      <th>528</th>\n",
       "      <td>0</td>\n",
       "      <td>1</td>\n",
       "    </tr>\n",
       "    <tr>\n",
       "      <th>529</th>\n",
       "      <td>0</td>\n",
       "      <td>1</td>\n",
       "    </tr>\n",
       "    <tr>\n",
       "      <th>530</th>\n",
       "      <td>0</td>\n",
       "      <td>1</td>\n",
       "    </tr>\n",
       "    <tr>\n",
       "      <th>531</th>\n",
       "      <td>0</td>\n",
       "      <td>1</td>\n",
       "    </tr>\n",
       "    <tr>\n",
       "      <th>532</th>\n",
       "      <td>0</td>\n",
       "      <td>1</td>\n",
       "    </tr>\n",
       "    <tr>\n",
       "      <th>533</th>\n",
       "      <td>0</td>\n",
       "      <td>1</td>\n",
       "    </tr>\n",
       "    <tr>\n",
       "      <th>534</th>\n",
       "      <td>0</td>\n",
       "      <td>1</td>\n",
       "    </tr>\n",
       "    <tr>\n",
       "      <th>535</th>\n",
       "      <td>0</td>\n",
       "      <td>1</td>\n",
       "    </tr>\n",
       "    <tr>\n",
       "      <th>536</th>\n",
       "      <td>0</td>\n",
       "      <td>1</td>\n",
       "    </tr>\n",
       "    <tr>\n",
       "      <th>537</th>\n",
       "      <td>0</td>\n",
       "      <td>1</td>\n",
       "    </tr>\n",
       "    <tr>\n",
       "      <th>538</th>\n",
       "      <td>0</td>\n",
       "      <td>1</td>\n",
       "    </tr>\n",
       "    <tr>\n",
       "      <th>539</th>\n",
       "      <td>0</td>\n",
       "      <td>1</td>\n",
       "    </tr>\n",
       "    <tr>\n",
       "      <th>540</th>\n",
       "      <td>0</td>\n",
       "      <td>1</td>\n",
       "    </tr>\n",
       "    <tr>\n",
       "      <th>541</th>\n",
       "      <td>1</td>\n",
       "      <td>0</td>\n",
       "    </tr>\n",
       "    <tr>\n",
       "      <th>542</th>\n",
       "      <td>0</td>\n",
       "      <td>1</td>\n",
       "    </tr>\n",
       "    <tr>\n",
       "      <th>543</th>\n",
       "      <td>0</td>\n",
       "      <td>0</td>\n",
       "    </tr>\n",
       "    <tr>\n",
       "      <th>544</th>\n",
       "      <td>0</td>\n",
       "      <td>1</td>\n",
       "    </tr>\n",
       "  </tbody>\n",
       "</table>\n",
       "<p>545 rows × 2 columns</p>\n",
       "</div>"
      ],
      "text/plain": [
       "     semi-furnished  unfurnished\n",
       "0                 0            0\n",
       "1                 0            0\n",
       "2                 1            0\n",
       "3                 0            0\n",
       "4                 0            0\n",
       "5                 1            0\n",
       "6                 1            0\n",
       "7                 0            1\n",
       "8                 0            0\n",
       "9                 0            1\n",
       "10                0            0\n",
       "11                1            0\n",
       "12                1            0\n",
       "13                0            0\n",
       "14                1            0\n",
       "15                1            0\n",
       "16                0            1\n",
       "17                0            0\n",
       "18                0            0\n",
       "19                1            0\n",
       "20                1            0\n",
       "21                0            1\n",
       "22                0            0\n",
       "23                0            0\n",
       "24                0            0\n",
       "25                0            0\n",
       "26                1            0\n",
       "27                1            0\n",
       "28                0            1\n",
       "29                1            0\n",
       "..              ...          ...\n",
       "515               0            1\n",
       "516               0            1\n",
       "517               0            1\n",
       "518               0            1\n",
       "519               0            1\n",
       "520               0            1\n",
       "521               0            1\n",
       "522               0            0\n",
       "523               0            0\n",
       "524               0            1\n",
       "525               0            1\n",
       "526               0            1\n",
       "527               1            0\n",
       "528               0            1\n",
       "529               0            1\n",
       "530               0            1\n",
       "531               0            1\n",
       "532               0            1\n",
       "533               0            1\n",
       "534               0            1\n",
       "535               0            1\n",
       "536               0            1\n",
       "537               0            1\n",
       "538               0            1\n",
       "539               0            1\n",
       "540               0            1\n",
       "541               1            0\n",
       "542               0            1\n",
       "543               0            0\n",
       "544               0            1\n",
       "\n",
       "[545 rows x 2 columns]"
      ]
     },
     "execution_count": 52,
     "metadata": {},
     "output_type": "execute_result"
    }
   ],
   "source": [
    "status"
   ]
  },
  {
   "cell_type": "code",
   "execution_count": 53,
   "metadata": {},
   "outputs": [],
   "source": [
    "# Adding the result to master dataframe\n",
    "housing = pd.concat([housing, status], axis = 1)"
   ]
  },
  {
   "cell_type": "code",
   "execution_count": 54,
   "metadata": {},
   "outputs": [
    {
     "data": {
      "text/html": [
       "<div>\n",
       "<style scoped>\n",
       "    .dataframe tbody tr th:only-of-type {\n",
       "        vertical-align: middle;\n",
       "    }\n",
       "\n",
       "    .dataframe tbody tr th {\n",
       "        vertical-align: top;\n",
       "    }\n",
       "\n",
       "    .dataframe thead th {\n",
       "        text-align: right;\n",
       "    }\n",
       "</style>\n",
       "<table border=\"1\" class=\"dataframe\">\n",
       "  <thead>\n",
       "    <tr style=\"text-align: right;\">\n",
       "      <th></th>\n",
       "      <th>price</th>\n",
       "      <th>area</th>\n",
       "      <th>bedrooms</th>\n",
       "      <th>bathrooms</th>\n",
       "      <th>stories</th>\n",
       "      <th>mainroad</th>\n",
       "      <th>guestroom</th>\n",
       "      <th>basement</th>\n",
       "      <th>hotwaterheating</th>\n",
       "      <th>airconditioning</th>\n",
       "      <th>parking</th>\n",
       "      <th>prefarea</th>\n",
       "      <th>furnishingstatus</th>\n",
       "      <th>semi-furnished</th>\n",
       "      <th>unfurnished</th>\n",
       "    </tr>\n",
       "  </thead>\n",
       "  <tbody>\n",
       "    <tr>\n",
       "      <th>0</th>\n",
       "      <td>13300000</td>\n",
       "      <td>7420</td>\n",
       "      <td>4</td>\n",
       "      <td>2</td>\n",
       "      <td>3</td>\n",
       "      <td>1</td>\n",
       "      <td>0</td>\n",
       "      <td>0</td>\n",
       "      <td>0</td>\n",
       "      <td>1</td>\n",
       "      <td>2</td>\n",
       "      <td>1</td>\n",
       "      <td>furnished</td>\n",
       "      <td>0</td>\n",
       "      <td>0</td>\n",
       "    </tr>\n",
       "    <tr>\n",
       "      <th>1</th>\n",
       "      <td>12250000</td>\n",
       "      <td>8960</td>\n",
       "      <td>4</td>\n",
       "      <td>4</td>\n",
       "      <td>4</td>\n",
       "      <td>1</td>\n",
       "      <td>0</td>\n",
       "      <td>0</td>\n",
       "      <td>0</td>\n",
       "      <td>1</td>\n",
       "      <td>3</td>\n",
       "      <td>0</td>\n",
       "      <td>furnished</td>\n",
       "      <td>0</td>\n",
       "      <td>0</td>\n",
       "    </tr>\n",
       "    <tr>\n",
       "      <th>2</th>\n",
       "      <td>12250000</td>\n",
       "      <td>9960</td>\n",
       "      <td>3</td>\n",
       "      <td>2</td>\n",
       "      <td>2</td>\n",
       "      <td>1</td>\n",
       "      <td>0</td>\n",
       "      <td>1</td>\n",
       "      <td>0</td>\n",
       "      <td>0</td>\n",
       "      <td>2</td>\n",
       "      <td>1</td>\n",
       "      <td>semi-furnished</td>\n",
       "      <td>1</td>\n",
       "      <td>0</td>\n",
       "    </tr>\n",
       "    <tr>\n",
       "      <th>3</th>\n",
       "      <td>12215000</td>\n",
       "      <td>7500</td>\n",
       "      <td>4</td>\n",
       "      <td>2</td>\n",
       "      <td>2</td>\n",
       "      <td>1</td>\n",
       "      <td>0</td>\n",
       "      <td>1</td>\n",
       "      <td>0</td>\n",
       "      <td>1</td>\n",
       "      <td>3</td>\n",
       "      <td>1</td>\n",
       "      <td>furnished</td>\n",
       "      <td>0</td>\n",
       "      <td>0</td>\n",
       "    </tr>\n",
       "    <tr>\n",
       "      <th>4</th>\n",
       "      <td>11410000</td>\n",
       "      <td>7420</td>\n",
       "      <td>4</td>\n",
       "      <td>1</td>\n",
       "      <td>2</td>\n",
       "      <td>1</td>\n",
       "      <td>1</td>\n",
       "      <td>1</td>\n",
       "      <td>0</td>\n",
       "      <td>1</td>\n",
       "      <td>2</td>\n",
       "      <td>0</td>\n",
       "      <td>furnished</td>\n",
       "      <td>0</td>\n",
       "      <td>0</td>\n",
       "    </tr>\n",
       "  </tbody>\n",
       "</table>\n",
       "</div>"
      ],
      "text/plain": [
       "      price  area  bedrooms  bathrooms  stories  mainroad  guestroom  \\\n",
       "0  13300000  7420         4          2        3         1          0   \n",
       "1  12250000  8960         4          4        4         1          0   \n",
       "2  12250000  9960         3          2        2         1          0   \n",
       "3  12215000  7500         4          2        2         1          0   \n",
       "4  11410000  7420         4          1        2         1          1   \n",
       "\n",
       "   basement  hotwaterheating  airconditioning  parking  prefarea  \\\n",
       "0         0                0                1        2         1   \n",
       "1         0                0                1        3         0   \n",
       "2         1                0                0        2         1   \n",
       "3         1                0                1        3         1   \n",
       "4         1                0                1        2         0   \n",
       "\n",
       "  furnishingstatus  semi-furnished  unfurnished  \n",
       "0        furnished               0            0  \n",
       "1        furnished               0            0  \n",
       "2   semi-furnished               1            0  \n",
       "3        furnished               0            0  \n",
       "4        furnished               0            0  "
      ]
     },
     "execution_count": 54,
     "metadata": {},
     "output_type": "execute_result"
    }
   ],
   "source": [
    "housing.head()"
   ]
  },
  {
   "cell_type": "code",
   "execution_count": 55,
   "metadata": {},
   "outputs": [],
   "source": [
    "housing.drop(['furnishingstatus'], axis = 1, inplace = True)"
   ]
  },
  {
   "cell_type": "code",
   "execution_count": 56,
   "metadata": {},
   "outputs": [
    {
     "data": {
      "text/html": [
       "<div>\n",
       "<style scoped>\n",
       "    .dataframe tbody tr th:only-of-type {\n",
       "        vertical-align: middle;\n",
       "    }\n",
       "\n",
       "    .dataframe tbody tr th {\n",
       "        vertical-align: top;\n",
       "    }\n",
       "\n",
       "    .dataframe thead th {\n",
       "        text-align: right;\n",
       "    }\n",
       "</style>\n",
       "<table border=\"1\" class=\"dataframe\">\n",
       "  <thead>\n",
       "    <tr style=\"text-align: right;\">\n",
       "      <th></th>\n",
       "      <th>price</th>\n",
       "      <th>area</th>\n",
       "      <th>bedrooms</th>\n",
       "      <th>bathrooms</th>\n",
       "      <th>stories</th>\n",
       "      <th>mainroad</th>\n",
       "      <th>guestroom</th>\n",
       "      <th>basement</th>\n",
       "      <th>hotwaterheating</th>\n",
       "      <th>airconditioning</th>\n",
       "      <th>parking</th>\n",
       "      <th>prefarea</th>\n",
       "      <th>semi-furnished</th>\n",
       "      <th>unfurnished</th>\n",
       "    </tr>\n",
       "  </thead>\n",
       "  <tbody>\n",
       "    <tr>\n",
       "      <th>0</th>\n",
       "      <td>13300000</td>\n",
       "      <td>7420</td>\n",
       "      <td>4</td>\n",
       "      <td>2</td>\n",
       "      <td>3</td>\n",
       "      <td>1</td>\n",
       "      <td>0</td>\n",
       "      <td>0</td>\n",
       "      <td>0</td>\n",
       "      <td>1</td>\n",
       "      <td>2</td>\n",
       "      <td>1</td>\n",
       "      <td>0</td>\n",
       "      <td>0</td>\n",
       "    </tr>\n",
       "    <tr>\n",
       "      <th>1</th>\n",
       "      <td>12250000</td>\n",
       "      <td>8960</td>\n",
       "      <td>4</td>\n",
       "      <td>4</td>\n",
       "      <td>4</td>\n",
       "      <td>1</td>\n",
       "      <td>0</td>\n",
       "      <td>0</td>\n",
       "      <td>0</td>\n",
       "      <td>1</td>\n",
       "      <td>3</td>\n",
       "      <td>0</td>\n",
       "      <td>0</td>\n",
       "      <td>0</td>\n",
       "    </tr>\n",
       "    <tr>\n",
       "      <th>2</th>\n",
       "      <td>12250000</td>\n",
       "      <td>9960</td>\n",
       "      <td>3</td>\n",
       "      <td>2</td>\n",
       "      <td>2</td>\n",
       "      <td>1</td>\n",
       "      <td>0</td>\n",
       "      <td>1</td>\n",
       "      <td>0</td>\n",
       "      <td>0</td>\n",
       "      <td>2</td>\n",
       "      <td>1</td>\n",
       "      <td>1</td>\n",
       "      <td>0</td>\n",
       "    </tr>\n",
       "    <tr>\n",
       "      <th>3</th>\n",
       "      <td>12215000</td>\n",
       "      <td>7500</td>\n",
       "      <td>4</td>\n",
       "      <td>2</td>\n",
       "      <td>2</td>\n",
       "      <td>1</td>\n",
       "      <td>0</td>\n",
       "      <td>1</td>\n",
       "      <td>0</td>\n",
       "      <td>1</td>\n",
       "      <td>3</td>\n",
       "      <td>1</td>\n",
       "      <td>0</td>\n",
       "      <td>0</td>\n",
       "    </tr>\n",
       "    <tr>\n",
       "      <th>4</th>\n",
       "      <td>11410000</td>\n",
       "      <td>7420</td>\n",
       "      <td>4</td>\n",
       "      <td>1</td>\n",
       "      <td>2</td>\n",
       "      <td>1</td>\n",
       "      <td>1</td>\n",
       "      <td>1</td>\n",
       "      <td>0</td>\n",
       "      <td>1</td>\n",
       "      <td>2</td>\n",
       "      <td>0</td>\n",
       "      <td>0</td>\n",
       "      <td>0</td>\n",
       "    </tr>\n",
       "  </tbody>\n",
       "</table>\n",
       "</div>"
      ],
      "text/plain": [
       "      price  area  bedrooms  bathrooms  stories  mainroad  guestroom  \\\n",
       "0  13300000  7420         4          2        3         1          0   \n",
       "1  12250000  8960         4          4        4         1          0   \n",
       "2  12250000  9960         3          2        2         1          0   \n",
       "3  12215000  7500         4          2        2         1          0   \n",
       "4  11410000  7420         4          1        2         1          1   \n",
       "\n",
       "   basement  hotwaterheating  airconditioning  parking  prefarea  \\\n",
       "0         0                0                1        2         1   \n",
       "1         0                0                1        3         0   \n",
       "2         1                0                0        2         1   \n",
       "3         1                0                1        3         1   \n",
       "4         1                0                1        2         0   \n",
       "\n",
       "   semi-furnished  unfurnished  \n",
       "0               0            0  \n",
       "1               0            0  \n",
       "2               1            0  \n",
       "3               0            0  \n",
       "4               0            0  "
      ]
     },
     "execution_count": 56,
     "metadata": {},
     "output_type": "execute_result"
    }
   ],
   "source": [
    "housing.head()"
   ]
  },
  {
   "cell_type": "markdown",
   "metadata": {},
   "source": [
    "#### Creating a new variable"
   ]
  },
  {
   "cell_type": "code",
   "execution_count": 57,
   "metadata": {},
   "outputs": [],
   "source": [
    "housing['areaperbedroom'] = housing['area']/housing['bedrooms']"
   ]
  },
  {
   "cell_type": "code",
   "execution_count": 58,
   "metadata": {},
   "outputs": [],
   "source": [
    "housing['bratio'] = housing['bathrooms']/housing['bedrooms']"
   ]
  },
  {
   "cell_type": "code",
   "execution_count": 59,
   "metadata": {},
   "outputs": [
    {
     "data": {
      "text/html": [
       "<div>\n",
       "<style scoped>\n",
       "    .dataframe tbody tr th:only-of-type {\n",
       "        vertical-align: middle;\n",
       "    }\n",
       "\n",
       "    .dataframe tbody tr th {\n",
       "        vertical-align: top;\n",
       "    }\n",
       "\n",
       "    .dataframe thead th {\n",
       "        text-align: right;\n",
       "    }\n",
       "</style>\n",
       "<table border=\"1\" class=\"dataframe\">\n",
       "  <thead>\n",
       "    <tr style=\"text-align: right;\">\n",
       "      <th></th>\n",
       "      <th>price</th>\n",
       "      <th>area</th>\n",
       "      <th>bedrooms</th>\n",
       "      <th>bathrooms</th>\n",
       "      <th>stories</th>\n",
       "      <th>mainroad</th>\n",
       "      <th>guestroom</th>\n",
       "      <th>basement</th>\n",
       "      <th>hotwaterheating</th>\n",
       "      <th>airconditioning</th>\n",
       "      <th>parking</th>\n",
       "      <th>prefarea</th>\n",
       "      <th>semi-furnished</th>\n",
       "      <th>unfurnished</th>\n",
       "      <th>areaperbedroom</th>\n",
       "      <th>bratio</th>\n",
       "    </tr>\n",
       "  </thead>\n",
       "  <tbody>\n",
       "    <tr>\n",
       "      <th>0</th>\n",
       "      <td>13300000</td>\n",
       "      <td>7420</td>\n",
       "      <td>4</td>\n",
       "      <td>2</td>\n",
       "      <td>3</td>\n",
       "      <td>1</td>\n",
       "      <td>0</td>\n",
       "      <td>0</td>\n",
       "      <td>0</td>\n",
       "      <td>1</td>\n",
       "      <td>2</td>\n",
       "      <td>1</td>\n",
       "      <td>0</td>\n",
       "      <td>0</td>\n",
       "      <td>1855.0</td>\n",
       "      <td>0.500000</td>\n",
       "    </tr>\n",
       "    <tr>\n",
       "      <th>1</th>\n",
       "      <td>12250000</td>\n",
       "      <td>8960</td>\n",
       "      <td>4</td>\n",
       "      <td>4</td>\n",
       "      <td>4</td>\n",
       "      <td>1</td>\n",
       "      <td>0</td>\n",
       "      <td>0</td>\n",
       "      <td>0</td>\n",
       "      <td>1</td>\n",
       "      <td>3</td>\n",
       "      <td>0</td>\n",
       "      <td>0</td>\n",
       "      <td>0</td>\n",
       "      <td>2240.0</td>\n",
       "      <td>1.000000</td>\n",
       "    </tr>\n",
       "    <tr>\n",
       "      <th>2</th>\n",
       "      <td>12250000</td>\n",
       "      <td>9960</td>\n",
       "      <td>3</td>\n",
       "      <td>2</td>\n",
       "      <td>2</td>\n",
       "      <td>1</td>\n",
       "      <td>0</td>\n",
       "      <td>1</td>\n",
       "      <td>0</td>\n",
       "      <td>0</td>\n",
       "      <td>2</td>\n",
       "      <td>1</td>\n",
       "      <td>1</td>\n",
       "      <td>0</td>\n",
       "      <td>3320.0</td>\n",
       "      <td>0.666667</td>\n",
       "    </tr>\n",
       "    <tr>\n",
       "      <th>3</th>\n",
       "      <td>12215000</td>\n",
       "      <td>7500</td>\n",
       "      <td>4</td>\n",
       "      <td>2</td>\n",
       "      <td>2</td>\n",
       "      <td>1</td>\n",
       "      <td>0</td>\n",
       "      <td>1</td>\n",
       "      <td>0</td>\n",
       "      <td>1</td>\n",
       "      <td>3</td>\n",
       "      <td>1</td>\n",
       "      <td>0</td>\n",
       "      <td>0</td>\n",
       "      <td>1875.0</td>\n",
       "      <td>0.500000</td>\n",
       "    </tr>\n",
       "    <tr>\n",
       "      <th>4</th>\n",
       "      <td>11410000</td>\n",
       "      <td>7420</td>\n",
       "      <td>4</td>\n",
       "      <td>1</td>\n",
       "      <td>2</td>\n",
       "      <td>1</td>\n",
       "      <td>1</td>\n",
       "      <td>1</td>\n",
       "      <td>0</td>\n",
       "      <td>1</td>\n",
       "      <td>2</td>\n",
       "      <td>0</td>\n",
       "      <td>0</td>\n",
       "      <td>0</td>\n",
       "      <td>1855.0</td>\n",
       "      <td>0.250000</td>\n",
       "    </tr>\n",
       "  </tbody>\n",
       "</table>\n",
       "</div>"
      ],
      "text/plain": [
       "      price  area  bedrooms  bathrooms  stories  mainroad  guestroom  \\\n",
       "0  13300000  7420         4          2        3         1          0   \n",
       "1  12250000  8960         4          4        4         1          0   \n",
       "2  12250000  9960         3          2        2         1          0   \n",
       "3  12215000  7500         4          2        2         1          0   \n",
       "4  11410000  7420         4          1        2         1          1   \n",
       "\n",
       "   basement  hotwaterheating  airconditioning  parking  prefarea  \\\n",
       "0         0                0                1        2         1   \n",
       "1         0                0                1        3         0   \n",
       "2         1                0                0        2         1   \n",
       "3         1                0                1        3         1   \n",
       "4         1                0                1        2         0   \n",
       "\n",
       "   semi-furnished  unfurnished  areaperbedroom    bratio  \n",
       "0               0            0          1855.0  0.500000  \n",
       "1               0            0          2240.0  1.000000  \n",
       "2               1            0          3320.0  0.666667  \n",
       "3               0            0          1875.0  0.500000  \n",
       "4               0            0          1855.0  0.250000  "
      ]
     },
     "execution_count": 59,
     "metadata": {},
     "output_type": "execute_result"
    }
   ],
   "source": [
    "housing.head()"
   ]
  },
  {
   "cell_type": "markdown",
   "metadata": {},
   "source": [
    "### Rescaling the Features \n",
    "It is extremely important to rescale the variables so that they have a comparable scale. \n",
    "There are twocoon ways of rescaling \n",
    "1. Normalisation (min-max scaling) and \n",
    "2. standardisation (mean-o, sigma-1) \n",
    "Let's try normalisation"
   ]
  },
  {
   "cell_type": "code",
   "execution_count": 60,
   "metadata": {},
   "outputs": [],
   "source": [
    "# defining a normalization function\n",
    "def normalize (x):\n",
    "    return ( (x - np.min(x))/ (max(x) - min(x)))\n",
    "\n",
    "housing = housing.apply(normalize)"
   ]
  },
  {
   "cell_type": "markdown",
   "metadata": {},
   "source": [
    "### Splitting Data into Training and Testing Sets"
   ]
  },
  {
   "cell_type": "code",
   "execution_count": 61,
   "metadata": {},
   "outputs": [
    {
     "data": {
      "text/plain": [
       "Index(['price', 'area', 'bedrooms', 'bathrooms', 'stories', 'mainroad',\n",
       "       'guestroom', 'basement', 'hotwaterheating', 'airconditioning',\n",
       "       'parking', 'prefarea', 'semi-furnished', 'unfurnished',\n",
       "       'areaperbedroom', 'bratio'],\n",
       "      dtype='object')"
      ]
     },
     "execution_count": 61,
     "metadata": {},
     "output_type": "execute_result"
    }
   ],
   "source": [
    "housing.columns"
   ]
  },
  {
   "cell_type": "code",
   "execution_count": 62,
   "metadata": {},
   "outputs": [],
   "source": [
    "X = housing[['area', 'bedrooms', 'bathrooms', 'stories', 'mainroad',\n",
    "       'guestroom', 'basement', 'hotwaterheating', 'airconditioning',\n",
    "       'parking', 'prefarea', 'semi-furnished', 'unfurnished',\n",
    "       'areaperbedroom', 'bratio']]\n",
    "\n",
    "y = housing['price']"
   ]
  },
  {
   "cell_type": "code",
   "execution_count": 63,
   "metadata": {},
   "outputs": [],
   "source": [
    "from sklearn.model_selection import train_test_split\n",
    "X_train, X_test, y_train, y_test = train_test_split(X, y, \n",
    "                                                    train_size = 0.7,\n",
    "                                                    test_size = 0.3,\n",
    "                                                    random_state =100)"
   ]
  },
  {
   "cell_type": "markdown",
   "metadata": {},
   "source": [
    "### Building a linear model"
   ]
  },
  {
   "cell_type": "code",
   "execution_count": 64,
   "metadata": {},
   "outputs": [
    {
     "name": "stderr",
     "output_type": "stream",
     "text": [
      "C:\\Users\\acer\\Anaconda3\\lib\\site-packages\\numpy\\core\\fromnumeric.py:2223: FutureWarning: Method .ptp is deprecated and will be removed in a future version. Use numpy.ptp instead.\n",
      "  return ptp(axis=axis, out=out, **kwargs)\n"
     ]
    }
   ],
   "source": [
    "from sklearn.linear_model import LinearRegression\n",
    "import statsmodels.api as sm\n",
    "X_train = sm.add_constant(X_train)\n",
    "\n",
    "lm_l = sm.OLS(y_train, X_train).fit()"
   ]
  },
  {
   "cell_type": "code",
   "execution_count": 65,
   "metadata": {},
   "outputs": [
    {
     "name": "stdout",
     "output_type": "stream",
     "text": [
      "                 Results: Ordinary least squares\n",
      "==================================================================\n",
      "Model:              OLS              Adj. R-squared:     0.673    \n",
      "Dependent Variable: price            AIC:                -736.8051\n",
      "Date:               2019-06-29 23:33 BIC:                -673.7203\n",
      "No. Observations:   381              Log-Likelihood:     384.40   \n",
      "Df Model:           15               F-statistic:        53.12    \n",
      "Df Residuals:       365              Prob (F-statistic): 4.56e-82 \n",
      "R-squared:          0.686            Scale:              0.0081248\n",
      "------------------------------------------------------------------\n",
      "                    Coef.  Std.Err.    t    P>|t|   [0.025  0.975]\n",
      "------------------------------------------------------------------\n",
      "const               0.0603   0.0586  1.0286 0.3043 -0.0550  0.1755\n",
      "area                0.5745   0.1341  4.2853 0.0000  0.3109  0.8381\n",
      "bedrooms           -0.0587   0.0929 -0.6315 0.5281 -0.2414  0.1241\n",
      "bathrooms           0.2336   0.1264  1.8486 0.0653 -0.0149  0.4821\n",
      "stories             0.1018   0.0193  5.2652 0.0000  0.0638  0.1398\n",
      "mainroad            0.0511   0.0143  3.5799 0.0004  0.0231  0.0792\n",
      "guestroom           0.0260   0.0138  1.8874 0.0599 -0.0011  0.0530\n",
      "basement            0.0208   0.0111  1.8774 0.0613 -0.0010  0.0426\n",
      "hotwaterheating     0.0875   0.0216  4.0481 0.0001  0.0450  0.1301\n",
      "airconditioning     0.0663   0.0113  5.8679 0.0000  0.0441  0.0885\n",
      "parking             0.0562   0.0181  3.1042 0.0021  0.0206  0.0917\n",
      "prefarea            0.0566   0.0119  4.7722 0.0000  0.0333  0.0799\n",
      "semi-furnished     -0.0008   0.0118 -0.0681 0.9457 -0.0240  0.0224\n",
      "unfurnished        -0.0323   0.0127 -2.5501 0.0112 -0.0572 -0.0074\n",
      "areaperbedroom     -0.3135   0.1465 -2.1390 0.0331 -0.6016 -0.0253\n",
      "bratio              0.0439   0.1042  0.4213 0.6738 -0.1610  0.2488\n",
      "------------------------------------------------------------------\n",
      "Omnibus:              87.283       Durbin-Watson:          2.087  \n",
      "Prob(Omnibus):        0.000        Jarque-Bera (JB):       276.328\n",
      "Skew:                 1.023        Prob(JB):               0.000  \n",
      "Kurtosis:             6.636        Condition No.:          82     \n",
      "==================================================================\n",
      "\n"
     ]
    }
   ],
   "source": [
    "print(lm_l.summary2())"
   ]
  },
  {
   "cell_type": "code",
   "execution_count": 66,
   "metadata": {},
   "outputs": [
    {
     "name": "stdout",
     "output_type": "stream",
     "text": [
      "                            OLS Regression Results                            \n",
      "==============================================================================\n",
      "Dep. Variable:                  price   R-squared:                       0.686\n",
      "Model:                            OLS   Adj. R-squared:                  0.673\n",
      "Method:                 Least Squares   F-statistic:                     53.12\n",
      "Date:                Sat, 29 Jun 2019   Prob (F-statistic):           4.56e-82\n",
      "Time:                        23:33:30   Log-Likelihood:                 384.40\n",
      "No. Observations:                 381   AIC:                            -736.8\n",
      "Df Residuals:                     365   BIC:                            -673.7\n",
      "Df Model:                          15                                         \n",
      "Covariance Type:            nonrobust                                         \n",
      "===================================================================================\n",
      "                      coef    std err          t      P>|t|      [0.025      0.975]\n",
      "-----------------------------------------------------------------------------------\n",
      "const               0.0603      0.059      1.029      0.304      -0.055       0.176\n",
      "area                0.5745      0.134      4.285      0.000       0.311       0.838\n",
      "bedrooms           -0.0587      0.093     -0.632      0.528      -0.241       0.124\n",
      "bathrooms           0.2336      0.126      1.849      0.065      -0.015       0.482\n",
      "stories             0.1018      0.019      5.265      0.000       0.064       0.140\n",
      "mainroad            0.0511      0.014      3.580      0.000       0.023       0.079\n",
      "guestroom           0.0260      0.014      1.887      0.060      -0.001       0.053\n",
      "basement            0.0208      0.011      1.877      0.061      -0.001       0.043\n",
      "hotwaterheating     0.0875      0.022      4.048      0.000       0.045       0.130\n",
      "airconditioning     0.0663      0.011      5.868      0.000       0.044       0.088\n",
      "parking             0.0562      0.018      3.104      0.002       0.021       0.092\n",
      "prefarea            0.0566      0.012      4.772      0.000       0.033       0.080\n",
      "semi-furnished     -0.0008      0.012     -0.068      0.946      -0.024       0.022\n",
      "unfurnished        -0.0323      0.013     -2.550      0.011      -0.057      -0.007\n",
      "areaperbedroom     -0.3135      0.147     -2.139      0.033      -0.602      -0.025\n",
      "bratio              0.0439      0.104      0.421      0.674      -0.161       0.249\n",
      "==============================================================================\n",
      "Omnibus:                       87.283   Durbin-Watson:                   2.087\n",
      "Prob(Omnibus):                  0.000   Jarque-Bera (JB):              276.328\n",
      "Skew:                           1.023   Prob(JB):                     9.91e-61\n",
      "Kurtosis:                       6.636   Cond. No.                         82.4\n",
      "==============================================================================\n",
      "\n",
      "Warnings:\n",
      "[1] Standard Errors assume that the covariance matrix of the errors is correctly specified.\n"
     ]
    }
   ],
   "source": [
    "print(lm_l.summary())"
   ]
  },
  {
   "cell_type": "markdown",
   "metadata": {},
   "source": [
    "#### Checking VIF"
   ]
  },
  {
   "cell_type": "code",
   "execution_count": 67,
   "metadata": {},
   "outputs": [],
   "source": [
    "# VIF is Variance Infation Factor\n",
    "# UDF for calculating vif value\n",
    "def vif_cal(input_data, dependent_col):\n",
    "    vif_df = pd.DataFrame( columns=['Var', 'Vif'])\n",
    "    x_vars = input_data.drop([dependent_col], axis = 1)\n",
    "    xvar_names = x_vars.columns\n",
    "    \n",
    "    for i in range(0, xvar_names.shape[0]):\n",
    "        y = x_vars[xvar_names[i]]\n",
    "        x = x_vars[xvar_names.drop(xvar_names[i])]\n",
    "        rsq = sm.OLS(y,x).fit().rsquared\n",
    "        vif = round(1/(1-rsq),2)\n",
    "        vif_df.loc[i] = [xvar_names[i], vif]\n",
    "    \n",
    "    return vif_df.sort_values(by = 'Vif', axis=0, ascending=False, inplace = False)"
   ]
  },
  {
   "cell_type": "code",
   "execution_count": 68,
   "metadata": {},
   "outputs": [
    {
     "data": {
      "text/html": [
       "<div>\n",
       "<style scoped>\n",
       "    .dataframe tbody tr th:only-of-type {\n",
       "        vertical-align: middle;\n",
       "    }\n",
       "\n",
       "    .dataframe tbody tr th {\n",
       "        vertical-align: top;\n",
       "    }\n",
       "\n",
       "    .dataframe thead th {\n",
       "        text-align: right;\n",
       "    }\n",
       "</style>\n",
       "<table border=\"1\" class=\"dataframe\">\n",
       "  <thead>\n",
       "    <tr style=\"text-align: right;\">\n",
       "      <th></th>\n",
       "      <th>Var</th>\n",
       "      <th>Vif</th>\n",
       "    </tr>\n",
       "  </thead>\n",
       "  <tbody>\n",
       "    <tr>\n",
       "      <th>13</th>\n",
       "      <td>areaperbedroom</td>\n",
       "      <td>68.71</td>\n",
       "    </tr>\n",
       "    <tr>\n",
       "      <th>0</th>\n",
       "      <td>area</td>\n",
       "      <td>57.52</td>\n",
       "    </tr>\n",
       "    <tr>\n",
       "      <th>14</th>\n",
       "      <td>bratio</td>\n",
       "      <td>29.25</td>\n",
       "    </tr>\n",
       "    <tr>\n",
       "      <th>2</th>\n",
       "      <td>bathrooms</td>\n",
       "      <td>11.11</td>\n",
       "    </tr>\n",
       "    <tr>\n",
       "      <th>1</th>\n",
       "      <td>bedrooms</td>\n",
       "      <td>10.68</td>\n",
       "    </tr>\n",
       "    <tr>\n",
       "      <th>4</th>\n",
       "      <td>mainroad</td>\n",
       "      <td>7.91</td>\n",
       "    </tr>\n",
       "    <tr>\n",
       "      <th>3</th>\n",
       "      <td>stories</td>\n",
       "      <td>2.81</td>\n",
       "    </tr>\n",
       "    <tr>\n",
       "      <th>11</th>\n",
       "      <td>semi-furnished</td>\n",
       "      <td>2.61</td>\n",
       "    </tr>\n",
       "    <tr>\n",
       "      <th>12</th>\n",
       "      <td>unfurnished</td>\n",
       "      <td>2.38</td>\n",
       "    </tr>\n",
       "    <tr>\n",
       "      <th>6</th>\n",
       "      <td>basement</td>\n",
       "      <td>2.05</td>\n",
       "    </tr>\n",
       "    <tr>\n",
       "      <th>9</th>\n",
       "      <td>parking</td>\n",
       "      <td>2.01</td>\n",
       "    </tr>\n",
       "    <tr>\n",
       "      <th>8</th>\n",
       "      <td>airconditioning</td>\n",
       "      <td>1.77</td>\n",
       "    </tr>\n",
       "    <tr>\n",
       "      <th>10</th>\n",
       "      <td>prefarea</td>\n",
       "      <td>1.51</td>\n",
       "    </tr>\n",
       "    <tr>\n",
       "      <th>5</th>\n",
       "      <td>guestroom</td>\n",
       "      <td>1.49</td>\n",
       "    </tr>\n",
       "    <tr>\n",
       "      <th>7</th>\n",
       "      <td>hotwaterheating</td>\n",
       "      <td>1.10</td>\n",
       "    </tr>\n",
       "  </tbody>\n",
       "</table>\n",
       "</div>"
      ],
      "text/plain": [
       "                Var    Vif\n",
       "13   areaperbedroom  68.71\n",
       "0              area  57.52\n",
       "14           bratio  29.25\n",
       "2         bathrooms  11.11\n",
       "1          bedrooms  10.68\n",
       "4          mainroad   7.91\n",
       "3           stories   2.81\n",
       "11   semi-furnished   2.61\n",
       "12      unfurnished   2.38\n",
       "6          basement   2.05\n",
       "9           parking   2.01\n",
       "8   airconditioning   1.77\n",
       "10         prefarea   1.51\n",
       "5         guestroom   1.49\n",
       "7   hotwaterheating   1.10"
      ]
     },
     "execution_count": 68,
     "metadata": {},
     "output_type": "execute_result"
    }
   ],
   "source": [
    "# Calculating vif values\n",
    "vif_cal(input_data=housing, dependent_col=\"price\")"
   ]
  },
  {
   "cell_type": "markdown",
   "metadata": {},
   "source": [
    "### Correlation matrix"
   ]
  },
  {
   "cell_type": "code",
   "execution_count": 69,
   "metadata": {},
   "outputs": [],
   "source": [
    "# Importing matplotlib and seaborn\n",
    "import matplotlib.pyplot as plt\n",
    "import seaborn as sns\n",
    "%matplotlib inline"
   ]
  },
  {
   "cell_type": "code",
   "execution_count": 70,
   "metadata": {},
   "outputs": [
    {
     "data": {
      "text/plain": [
       "<matplotlib.axes._subplots.AxesSubplot at 0x24b5daf88d0>"
      ]
     },
     "execution_count": 70,
     "metadata": {},
     "output_type": "execute_result"
    },
    {
     "data": {
      "image/png": "[encoded data removed]",
      "text/plain": [
       "<Figure size 1152x720 with 2 Axes>"
      ]
     },
     "metadata": {
      "needs_background": "light"
     },
     "output_type": "display_data"
    }
   ],
   "source": [
    "# Let's see the correlation matrix\n",
    "plt.figure(figsize = (16,10))\n",
    "sns.heatmap(housing.corr(), annot=True)"
   ]
  },
  {
   "cell_type": "markdown",
   "metadata": {},
   "source": [
    "#### Dropping the Variable and Updating the Model"
   ]
  },
  {
   "cell_type": "code",
   "execution_count": 71,
   "metadata": {},
   "outputs": [],
   "source": [
    "# Dropping highly correlated variable and insignificant variables\n",
    "X_train = X_train.drop('bratio', 1)"
   ]
  },
  {
   "cell_type": "code",
   "execution_count": 72,
   "metadata": {},
   "outputs": [],
   "source": [
    "lm_2 = sm.OLS(y_train, X_train).fit()"
   ]
  },
  {
   "cell_type": "code",
   "execution_count": 73,
   "metadata": {},
   "outputs": [
    {
     "name": "stdout",
     "output_type": "stream",
     "text": [
      "                            OLS Regression Results                            \n",
      "==============================================================================\n",
      "Dep. Variable:                  price   R-squared:                       0.686\n",
      "Model:                            OLS   Adj. R-squared:                  0.674\n",
      "Method:                 Least Squares   F-statistic:                     57.03\n",
      "Date:                Sat, 29 Jun 2019   Prob (F-statistic):           6.46e-83\n",
      "Time:                        23:33:33   Log-Likelihood:                 384.31\n",
      "No. Observations:                 381   AIC:                            -738.6\n",
      "Df Residuals:                     366   BIC:                            -679.5\n",
      "Df Model:                          14                                         \n",
      "Covariance Type:            nonrobust                                         \n",
      "===================================================================================\n",
      "                      coef    std err          t      P>|t|      [0.025      0.975]\n",
      "-----------------------------------------------------------------------------------\n",
      "const               0.0799      0.036      2.239      0.026       0.010       0.150\n",
      "area                0.5483      0.119      4.622      0.000       0.315       0.782\n",
      "bedrooms           -0.0845      0.070     -1.209      0.227      -0.222       0.053\n",
      "bathrooms           0.2850      0.033      8.686      0.000       0.220       0.350\n",
      "stories             0.1022      0.019      5.301      0.000       0.064       0.140\n",
      "mainroad            0.0509      0.014      3.568      0.000       0.023       0.079\n",
      "guestroom           0.0265      0.014      1.941      0.053      -0.000       0.053\n",
      "basement            0.0210      0.011      1.898      0.058      -0.001       0.043\n",
      "hotwaterheating     0.0866      0.021      4.031      0.000       0.044       0.129\n",
      "airconditioning     0.0662      0.011      5.871      0.000       0.044       0.088\n",
      "parking             0.0563      0.018      3.119      0.002       0.021       0.092\n",
      "prefarea            0.0563      0.012      4.760      0.000       0.033       0.079\n",
      "semi-furnished     -0.0009      0.012     -0.077      0.939      -0.024       0.022\n",
      "unfurnished        -0.0323      0.013     -2.554      0.011      -0.057      -0.007\n",
      "areaperbedroom     -0.2840      0.129     -2.208      0.028      -0.537      -0.031\n",
      "==============================================================================\n",
      "Omnibus:                       88.466   Durbin-Watson:                   2.085\n",
      "Prob(Omnibus):                  0.000   Jarque-Bera (JB):              282.794\n",
      "Skew:                           1.034   Prob(JB):                     3.91e-62\n",
      "Kurtosis:                       6.679   Cond. No.                         67.4\n",
      "==============================================================================\n",
      "\n",
      "Warnings:\n",
      "[1] Standard Errors assume that the covariance matrix of the errors is correctly specified.\n"
     ]
    }
   ],
   "source": [
    "print(lm_2.summary())"
   ]
  },
  {
   "cell_type": "code",
   "execution_count": 74,
   "metadata": {},
   "outputs": [
    {
     "name": "stdout",
     "output_type": "stream",
     "text": [
      "                 Results: Ordinary least squares\n",
      "==================================================================\n",
      "Model:              OLS              Adj. R-squared:     0.674    \n",
      "Dependent Variable: price            AIC:                -738.6198\n",
      "Date:               2019-06-29 23:33 BIC:                -679.4778\n",
      "No. Observations:   381              Log-Likelihood:     384.31   \n",
      "Df Model:           14               F-statistic:        57.03    \n",
      "Df Residuals:       366              Prob (F-statistic): 6.46e-83 \n",
      "R-squared:          0.686            Scale:              0.0081065\n",
      "------------------------------------------------------------------\n",
      "                    Coef.  Std.Err.    t    P>|t|   [0.025  0.975]\n",
      "------------------------------------------------------------------\n",
      "const               0.0799   0.0357  2.2392 0.0257  0.0097  0.1500\n",
      "area                0.5483   0.1186  4.6221 0.0000  0.3150  0.7815\n",
      "bedrooms           -0.0845   0.0699 -1.2094 0.2273 -0.2218  0.0529\n",
      "bathrooms           0.2850   0.0328  8.6863 0.0000  0.2205  0.3495\n",
      "stories             0.1022   0.0193  5.3009 0.0000  0.0643  0.1401\n",
      "mainroad            0.0509   0.0143  3.5682 0.0004  0.0228  0.0789\n",
      "guestroom           0.0265   0.0137  1.9409 0.0530 -0.0003  0.0534\n",
      "basement            0.0210   0.0111  1.8984 0.0584 -0.0008  0.0427\n",
      "hotwaterheating     0.0866   0.0215  4.0307 0.0001  0.0443  0.1288\n",
      "airconditioning     0.0662   0.0113  5.8713 0.0000  0.0441  0.0884\n",
      "parking             0.0563   0.0181  3.1187 0.0020  0.0208  0.0919\n",
      "prefarea            0.0563   0.0118  4.7605 0.0000  0.0330  0.0795\n",
      "semi-furnished     -0.0009   0.0118 -0.0769 0.9388 -0.0241  0.0223\n",
      "unfurnished        -0.0323   0.0127 -2.5540 0.0111 -0.0572 -0.0074\n",
      "areaperbedroom     -0.2840   0.1286 -2.2077 0.0279 -0.5370 -0.0310\n",
      "------------------------------------------------------------------\n",
      "Omnibus:              88.466       Durbin-Watson:          2.085  \n",
      "Prob(Omnibus):        0.000        Jarque-Bera (JB):       282.794\n",
      "Skew:                 1.034        Prob(JB):               0.000  \n",
      "Kurtosis:             6.679        Condition No.:          67     \n",
      "==================================================================\n",
      "\n"
     ]
    }
   ],
   "source": [
    "print(lm_2.summary2())"
   ]
  },
  {
   "cell_type": "markdown",
   "metadata": {},
   "source": [
    "#### Dropping the Variable and Updating the Model"
   ]
  },
  {
   "cell_type": "code",
   "execution_count": 75,
   "metadata": {},
   "outputs": [
    {
     "data": {
      "text/html": [
       "<div>\n",
       "<style scoped>\n",
       "    .dataframe tbody tr th:only-of-type {\n",
       "        vertical-align: middle;\n",
       "    }\n",
       "\n",
       "    .dataframe tbody tr th {\n",
       "        vertical-align: top;\n",
       "    }\n",
       "\n",
       "    .dataframe thead th {\n",
       "        text-align: right;\n",
       "    }\n",
       "</style>\n",
       "<table border=\"1\" class=\"dataframe\">\n",
       "  <thead>\n",
       "    <tr style=\"text-align: right;\">\n",
       "      <th></th>\n",
       "      <th>Var</th>\n",
       "      <th>Vif</th>\n",
       "    </tr>\n",
       "  </thead>\n",
       "  <tbody>\n",
       "    <tr>\n",
       "      <th>0</th>\n",
       "      <td>area</td>\n",
       "      <td>20.72</td>\n",
       "    </tr>\n",
       "    <tr>\n",
       "      <th>13</th>\n",
       "      <td>areaperbedroom</td>\n",
       "      <td>18.44</td>\n",
       "    </tr>\n",
       "    <tr>\n",
       "      <th>1</th>\n",
       "      <td>bedrooms</td>\n",
       "      <td>10.03</td>\n",
       "    </tr>\n",
       "    <tr>\n",
       "      <th>4</th>\n",
       "      <td>mainroad</td>\n",
       "      <td>7.46</td>\n",
       "    </tr>\n",
       "    <tr>\n",
       "      <th>3</th>\n",
       "      <td>stories</td>\n",
       "      <td>2.78</td>\n",
       "    </tr>\n",
       "    <tr>\n",
       "      <th>11</th>\n",
       "      <td>semi-furnished</td>\n",
       "      <td>2.48</td>\n",
       "    </tr>\n",
       "    <tr>\n",
       "      <th>12</th>\n",
       "      <td>unfurnished</td>\n",
       "      <td>2.20</td>\n",
       "    </tr>\n",
       "    <tr>\n",
       "      <th>6</th>\n",
       "      <td>basement</td>\n",
       "      <td>2.03</td>\n",
       "    </tr>\n",
       "    <tr>\n",
       "      <th>9</th>\n",
       "      <td>parking</td>\n",
       "      <td>2.00</td>\n",
       "    </tr>\n",
       "    <tr>\n",
       "      <th>8</th>\n",
       "      <td>airconditioning</td>\n",
       "      <td>1.77</td>\n",
       "    </tr>\n",
       "    <tr>\n",
       "      <th>2</th>\n",
       "      <td>bathrooms</td>\n",
       "      <td>1.71</td>\n",
       "    </tr>\n",
       "    <tr>\n",
       "      <th>10</th>\n",
       "      <td>prefarea</td>\n",
       "      <td>1.51</td>\n",
       "    </tr>\n",
       "    <tr>\n",
       "      <th>5</th>\n",
       "      <td>guestroom</td>\n",
       "      <td>1.48</td>\n",
       "    </tr>\n",
       "    <tr>\n",
       "      <th>7</th>\n",
       "      <td>hotwaterheating</td>\n",
       "      <td>1.09</td>\n",
       "    </tr>\n",
       "  </tbody>\n",
       "</table>\n",
       "</div>"
      ],
      "text/plain": [
       "                Var    Vif\n",
       "0              area  20.72\n",
       "13   areaperbedroom  18.44\n",
       "1          bedrooms  10.03\n",
       "4          mainroad   7.46\n",
       "3           stories   2.78\n",
       "11   semi-furnished   2.48\n",
       "12      unfurnished   2.20\n",
       "6          basement   2.03\n",
       "9           parking   2.00\n",
       "8   airconditioning   1.77\n",
       "2         bathrooms   1.71\n",
       "10         prefarea   1.51\n",
       "5         guestroom   1.48\n",
       "7   hotwaterheating   1.09"
      ]
     },
     "execution_count": 75,
     "metadata": {},
     "output_type": "execute_result"
    }
   ],
   "source": [
    "# Calculating vif values\n",
    "vif_cal(input_data=housing.drop(['bratio'], axis = 1), dependent_col=\"price\")"
   ]
  },
  {
   "cell_type": "code",
   "execution_count": 76,
   "metadata": {},
   "outputs": [],
   "source": [
    "# Dropping highly correlated variable and insignificant variables\n",
    "X_train = X_train.drop('bedrooms', 1)"
   ]
  },
  {
   "cell_type": "code",
   "execution_count": 77,
   "metadata": {},
   "outputs": [],
   "source": [
    "lm_3 = sm.OLS(y_train, X_train).fit()"
   ]
  },
  {
   "cell_type": "code",
   "execution_count": 78,
   "metadata": {},
   "outputs": [
    {
     "name": "stdout",
     "output_type": "stream",
     "text": [
      "                            OLS Regression Results                            \n",
      "==============================================================================\n",
      "Dep. Variable:                  price   R-squared:                       0.684\n",
      "Model:                            OLS   Adj. R-squared:                  0.673\n",
      "Method:                 Least Squares   F-statistic:                     61.23\n",
      "Date:                Sat, 29 Jun 2019   Prob (F-statistic):           1.66e-83\n",
      "Time:                        23:33:34   Log-Likelihood:                 383.55\n",
      "No. Observations:                 381   AIC:                            -739.1\n",
      "Df Residuals:                     367   BIC:                            -683.9\n",
      "Df Model:                          13                                         \n",
      "Covariance Type:            nonrobust                                         \n",
      "===================================================================================\n",
      "                      coef    std err          t      P>|t|      [0.025      0.975]\n",
      "-----------------------------------------------------------------------------------\n",
      "const               0.0427      0.018      2.362      0.019       0.007       0.078\n",
      "area                0.4326      0.070      6.164      0.000       0.295       0.571\n",
      "bathrooms           0.2814      0.033      8.606      0.000       0.217       0.346\n",
      "stories             0.1005      0.019      5.224      0.000       0.063       0.138\n",
      "mainroad            0.0515      0.014      3.611      0.000       0.023       0.080\n",
      "guestroom           0.0285      0.014      2.101      0.036       0.002       0.055\n",
      "basement            0.0201      0.011      1.822      0.069      -0.002       0.042\n",
      "hotwaterheating     0.0850      0.021      3.963      0.000       0.043       0.127\n",
      "airconditioning     0.0667      0.011      5.909      0.000       0.044       0.089\n",
      "parking             0.0573      0.018      3.175      0.002       0.022       0.093\n",
      "prefarea            0.0576      0.012      4.895      0.000       0.034       0.081\n",
      "semi-furnished   9.202e-06      0.012      0.001      0.999      -0.023       0.023\n",
      "unfurnished        -0.0313      0.013     -2.478      0.014      -0.056      -0.006\n",
      "areaperbedroom     -0.1516      0.068     -2.242      0.026      -0.285      -0.019\n",
      "==============================================================================\n",
      "Omnibus:                       88.924   Durbin-Watson:                   2.085\n",
      "Prob(Omnibus):                  0.000   Jarque-Bera (JB):              283.140\n",
      "Skew:                           1.041   Prob(JB):                     3.29e-62\n",
      "Kurtosis:                       6.674   Cond. No.                         33.3\n",
      "==============================================================================\n",
      "\n",
      "Warnings:\n",
      "[1] Standard Errors assume that the covariance matrix of the errors is correctly specified.\n"
     ]
    }
   ],
   "source": [
    "print(lm_3.summary())"
   ]
  },
  {
   "cell_type": "code",
   "execution_count": 79,
   "metadata": {},
   "outputs": [
    {
     "name": "stdout",
     "output_type": "stream",
     "text": [
      "                 Results: Ordinary least squares\n",
      "==================================================================\n",
      "Model:              OLS              Adj. R-squared:     0.673    \n",
      "Dependent Variable: price            AIC:                -739.1004\n",
      "Date:               2019-06-29 23:33 BIC:                -683.9012\n",
      "No. Observations:   381              Log-Likelihood:     383.55   \n",
      "Df Model:           13               F-statistic:        61.23    \n",
      "Df Residuals:       367              Prob (F-statistic): 1.66e-83 \n",
      "R-squared:          0.684            Scale:              0.0081167\n",
      "------------------------------------------------------------------\n",
      "                    Coef.  Std.Err.    t    P>|t|   [0.025  0.975]\n",
      "------------------------------------------------------------------\n",
      "const               0.0427   0.0181  2.3621 0.0187  0.0071  0.0782\n",
      "area                0.4326   0.0702  6.1645 0.0000  0.2946  0.5706\n",
      "bathrooms           0.2814   0.0327  8.6063 0.0000  0.2171  0.3457\n",
      "stories             0.1005   0.0192  5.2237 0.0000  0.0627  0.1384\n",
      "mainroad            0.0515   0.0143  3.6106 0.0003  0.0234  0.0795\n",
      "guestroom           0.0285   0.0136  2.1006 0.0364  0.0018  0.0552\n",
      "basement            0.0201   0.0110  1.8219 0.0693 -0.0016  0.0418\n",
      "hotwaterheating     0.0850   0.0215  3.9632 0.0001  0.0428  0.1272\n",
      "airconditioning     0.0667   0.0113  5.9094 0.0000  0.0445  0.0889\n",
      "parking             0.0573   0.0181  3.1751 0.0016  0.0218  0.0928\n",
      "prefarea            0.0576   0.0118  4.8953 0.0000  0.0345  0.0808\n",
      "semi-furnished      0.0000   0.0118  0.0008 0.9994 -0.0231  0.0231\n",
      "unfurnished        -0.0313   0.0126 -2.4777 0.0137 -0.0562 -0.0065\n",
      "areaperbedroom     -0.1516   0.0676 -2.2420 0.0256 -0.2846 -0.0186\n",
      "------------------------------------------------------------------\n",
      "Omnibus:              88.924       Durbin-Watson:          2.085  \n",
      "Prob(Omnibus):        0.000        Jarque-Bera (JB):       283.140\n",
      "Skew:                 1.041        Prob(JB):               0.000  \n",
      "Kurtosis:             6.674        Condition No.:          33     \n",
      "==================================================================\n",
      "\n"
     ]
    }
   ],
   "source": [
    "print(lm_3.summary2())"
   ]
  },
  {
   "cell_type": "code",
   "execution_count": 80,
   "metadata": {},
   "outputs": [
    {
     "data": {
      "text/html": [
       "<div>\n",
       "<style scoped>\n",
       "    .dataframe tbody tr th:only-of-type {\n",
       "        vertical-align: middle;\n",
       "    }\n",
       "\n",
       "    .dataframe tbody tr th {\n",
       "        vertical-align: top;\n",
       "    }\n",
       "\n",
       "    .dataframe thead th {\n",
       "        text-align: right;\n",
       "    }\n",
       "</style>\n",
       "<table border=\"1\" class=\"dataframe\">\n",
       "  <thead>\n",
       "    <tr style=\"text-align: right;\">\n",
       "      <th></th>\n",
       "      <th>Var</th>\n",
       "      <th>Vif</th>\n",
       "    </tr>\n",
       "  </thead>\n",
       "  <tbody>\n",
       "    <tr>\n",
       "      <th>0</th>\n",
       "      <td>area</td>\n",
       "      <td>14.98</td>\n",
       "    </tr>\n",
       "    <tr>\n",
       "      <th>12</th>\n",
       "      <td>areaperbedroom</td>\n",
       "      <td>13.88</td>\n",
       "    </tr>\n",
       "    <tr>\n",
       "      <th>3</th>\n",
       "      <td>mainroad</td>\n",
       "      <td>6.10</td>\n",
       "    </tr>\n",
       "    <tr>\n",
       "      <th>2</th>\n",
       "      <td>stories</td>\n",
       "      <td>2.56</td>\n",
       "    </tr>\n",
       "    <tr>\n",
       "      <th>10</th>\n",
       "      <td>semi-furnished</td>\n",
       "      <td>2.04</td>\n",
       "    </tr>\n",
       "    <tr>\n",
       "      <th>8</th>\n",
       "      <td>parking</td>\n",
       "      <td>2.00</td>\n",
       "    </tr>\n",
       "    <tr>\n",
       "      <th>5</th>\n",
       "      <td>basement</td>\n",
       "      <td>1.90</td>\n",
       "    </tr>\n",
       "    <tr>\n",
       "      <th>7</th>\n",
       "      <td>airconditioning</td>\n",
       "      <td>1.76</td>\n",
       "    </tr>\n",
       "    <tr>\n",
       "      <th>11</th>\n",
       "      <td>unfurnished</td>\n",
       "      <td>1.72</td>\n",
       "    </tr>\n",
       "    <tr>\n",
       "      <th>1</th>\n",
       "      <td>bathrooms</td>\n",
       "      <td>1.69</td>\n",
       "    </tr>\n",
       "    <tr>\n",
       "      <th>9</th>\n",
       "      <td>prefarea</td>\n",
       "      <td>1.50</td>\n",
       "    </tr>\n",
       "    <tr>\n",
       "      <th>4</th>\n",
       "      <td>guestroom</td>\n",
       "      <td>1.48</td>\n",
       "    </tr>\n",
       "    <tr>\n",
       "      <th>6</th>\n",
       "      <td>hotwaterheating</td>\n",
       "      <td>1.09</td>\n",
       "    </tr>\n",
       "  </tbody>\n",
       "</table>\n",
       "</div>"
      ],
      "text/plain": [
       "                Var    Vif\n",
       "0              area  14.98\n",
       "12   areaperbedroom  13.88\n",
       "3          mainroad   6.10\n",
       "2           stories   2.56\n",
       "10   semi-furnished   2.04\n",
       "8           parking   2.00\n",
       "5          basement   1.90\n",
       "7   airconditioning   1.76\n",
       "11      unfurnished   1.72\n",
       "1         bathrooms   1.69\n",
       "9          prefarea   1.50\n",
       "4         guestroom   1.48\n",
       "6   hotwaterheating   1.09"
      ]
     },
     "execution_count": 80,
     "metadata": {},
     "output_type": "execute_result"
    }
   ],
   "source": [
    "# Calculating vif values\n",
    "vif_cal(input_data=housing.drop([\"bedrooms\", \"bratio\"], axis = 1), dependent_col=\"price\")"
   ]
  },
  {
   "cell_type": "markdown",
   "metadata": {},
   "source": [
    "#### Dropping the Variable and Updating the Model"
   ]
  },
  {
   "cell_type": "code",
   "execution_count": 81,
   "metadata": {},
   "outputs": [],
   "source": [
    "# Dropping highly correlated variable and insignificant variables\n",
    "X_train = X_train.drop('areaperbedroom', 1)"
   ]
  },
  {
   "cell_type": "code",
   "execution_count": 82,
   "metadata": {},
   "outputs": [],
   "source": [
    "lm_4 = sm.OLS(y_train, X_train).fit()"
   ]
  },
  {
   "cell_type": "code",
   "execution_count": 83,
   "metadata": {},
   "outputs": [
    {
     "name": "stdout",
     "output_type": "stream",
     "text": [
      "                            OLS Regression Results                            \n",
      "==============================================================================\n",
      "Dep. Variable:                  price   R-squared:                       0.680\n",
      "Model:                            OLS   Adj. R-squared:                  0.670\n",
      "Method:                 Least Squares   F-statistic:                     65.20\n",
      "Date:                Sat, 29 Jun 2019   Prob (F-statistic):           2.35e-83\n",
      "Time:                        23:33:36   Log-Likelihood:                 380.96\n",
      "No. Observations:                 381   AIC:                            -735.9\n",
      "Df Residuals:                     368   BIC:                            -684.7\n",
      "Df Model:                          12                                         \n",
      "Covariance Type:            nonrobust                                         \n",
      "===================================================================================\n",
      "                      coef    std err          t      P>|t|      [0.025      0.975]\n",
      "-----------------------------------------------------------------------------------\n",
      "const               0.0313      0.017      1.795      0.074      -0.003       0.066\n",
      "area                0.3008      0.039      7.799      0.000       0.225       0.377\n",
      "bathrooms           0.2947      0.032      9.114      0.000       0.231       0.358\n",
      "stories             0.1178      0.018      6.643      0.000       0.083       0.153\n",
      "mainroad            0.0488      0.014      3.419      0.001       0.021       0.077\n",
      "guestroom           0.0301      0.014      2.207      0.028       0.003       0.057\n",
      "basement            0.0239      0.011      2.179      0.030       0.002       0.045\n",
      "hotwaterheating     0.0864      0.022      4.007      0.000       0.044       0.129\n",
      "airconditioning     0.0666      0.011      5.870      0.000       0.044       0.089\n",
      "parking             0.0629      0.018      3.495      0.001       0.027       0.098\n",
      "prefarea            0.0597      0.012      5.055      0.000       0.036       0.083\n",
      "semi-furnished      0.0008      0.012      0.067      0.947      -0.022       0.024\n",
      "unfurnished        -0.0318      0.013     -2.504      0.013      -0.057      -0.007\n",
      "==============================================================================\n",
      "Omnibus:                       97.809   Durbin-Watson:                   2.097\n",
      "Prob(Omnibus):                  0.000   Jarque-Bera (JB):              326.485\n",
      "Skew:                           1.131   Prob(JB):                     1.27e-71\n",
      "Kurtosis:                       6.930   Cond. No.                         13.9\n",
      "==============================================================================\n",
      "\n",
      "Warnings:\n",
      "[1] Standard Errors assume that the covariance matrix of the errors is correctly specified.\n"
     ]
    }
   ],
   "source": [
    "print(lm_4.summary())"
   ]
  },
  {
   "cell_type": "code",
   "execution_count": 84,
   "metadata": {},
   "outputs": [
    {
     "name": "stdout",
     "output_type": "stream",
     "text": [
      "                 Results: Ordinary least squares\n",
      "==================================================================\n",
      "Model:              OLS              Adj. R-squared:     0.670    \n",
      "Dependent Variable: price            AIC:                -735.9177\n",
      "Date:               2019-06-29 23:33 BIC:                -684.6613\n",
      "No. Observations:   381              Log-Likelihood:     380.96   \n",
      "Df Model:           12               F-statistic:        65.20    \n",
      "Df Residuals:       368              Prob (F-statistic): 2.35e-83 \n",
      "R-squared:          0.680            Scale:              0.0082055\n",
      "------------------------------------------------------------------\n",
      "                    Coef.  Std.Err.    t    P>|t|   [0.025  0.975]\n",
      "------------------------------------------------------------------\n",
      "const               0.0313   0.0174  1.7948 0.0735 -0.0030  0.0655\n",
      "area                0.3008   0.0386  7.7994 0.0000  0.2250  0.3767\n",
      "bathrooms           0.2947   0.0323  9.1141 0.0000  0.2311  0.3582\n",
      "stories             0.1178   0.0177  6.6435 0.0000  0.0829  0.1527\n",
      "mainroad            0.0488   0.0143  3.4186 0.0007  0.0207  0.0769\n",
      "guestroom           0.0301   0.0136  2.2066 0.0280  0.0033  0.0569\n",
      "basement            0.0239   0.0110  2.1789 0.0300  0.0023  0.0455\n",
      "hotwaterheating     0.0864   0.0216  4.0068 0.0001  0.0440  0.1288\n",
      "airconditioning     0.0666   0.0113  5.8702 0.0000  0.0443  0.0889\n",
      "parking             0.0629   0.0180  3.4946 0.0005  0.0275  0.0982\n",
      "prefarea            0.0597   0.0118  5.0549 0.0000  0.0364  0.0829\n",
      "semi-furnished      0.0008   0.0118  0.0671 0.9466 -0.0225  0.0240\n",
      "unfurnished        -0.0318   0.0127 -2.5042 0.0127 -0.0568 -0.0068\n",
      "------------------------------------------------------------------\n",
      "Omnibus:              97.809       Durbin-Watson:          2.097  \n",
      "Prob(Omnibus):        0.000        Jarque-Bera (JB):       326.485\n",
      "Skew:                 1.131        Prob(JB):               0.000  \n",
      "Kurtosis:             6.930        Condition No.:          14     \n",
      "==================================================================\n",
      "\n"
     ]
    }
   ],
   "source": [
    "print(lm_4.summary2())"
   ]
  },
  {
   "cell_type": "code",
   "execution_count": 85,
   "metadata": {},
   "outputs": [
    {
     "data": {
      "text/html": [
       "<div>\n",
       "<style scoped>\n",
       "    .dataframe tbody tr th:only-of-type {\n",
       "        vertical-align: middle;\n",
       "    }\n",
       "\n",
       "    .dataframe tbody tr th {\n",
       "        vertical-align: top;\n",
       "    }\n",
       "\n",
       "    .dataframe thead th {\n",
       "        text-align: right;\n",
       "    }\n",
       "</style>\n",
       "<table border=\"1\" class=\"dataframe\">\n",
       "  <thead>\n",
       "    <tr style=\"text-align: right;\">\n",
       "      <th></th>\n",
       "      <th>Var</th>\n",
       "      <th>Vif</th>\n",
       "    </tr>\n",
       "  </thead>\n",
       "  <tbody>\n",
       "    <tr>\n",
       "      <th>3</th>\n",
       "      <td>mainroad</td>\n",
       "      <td>5.51</td>\n",
       "    </tr>\n",
       "    <tr>\n",
       "      <th>0</th>\n",
       "      <td>area</td>\n",
       "      <td>4.43</td>\n",
       "    </tr>\n",
       "    <tr>\n",
       "      <th>2</th>\n",
       "      <td>stories</td>\n",
       "      <td>2.32</td>\n",
       "    </tr>\n",
       "    <tr>\n",
       "      <th>10</th>\n",
       "      <td>semi-furnished</td>\n",
       "      <td>2.00</td>\n",
       "    </tr>\n",
       "    <tr>\n",
       "      <th>8</th>\n",
       "      <td>parking</td>\n",
       "      <td>1.99</td>\n",
       "    </tr>\n",
       "    <tr>\n",
       "      <th>5</th>\n",
       "      <td>basement</td>\n",
       "      <td>1.90</td>\n",
       "    </tr>\n",
       "    <tr>\n",
       "      <th>7</th>\n",
       "      <td>airconditioning</td>\n",
       "      <td>1.76</td>\n",
       "    </tr>\n",
       "    <tr>\n",
       "      <th>11</th>\n",
       "      <td>unfurnished</td>\n",
       "      <td>1.65</td>\n",
       "    </tr>\n",
       "    <tr>\n",
       "      <th>1</th>\n",
       "      <td>bathrooms</td>\n",
       "      <td>1.62</td>\n",
       "    </tr>\n",
       "    <tr>\n",
       "      <th>9</th>\n",
       "      <td>prefarea</td>\n",
       "      <td>1.50</td>\n",
       "    </tr>\n",
       "    <tr>\n",
       "      <th>4</th>\n",
       "      <td>guestroom</td>\n",
       "      <td>1.47</td>\n",
       "    </tr>\n",
       "    <tr>\n",
       "      <th>6</th>\n",
       "      <td>hotwaterheating</td>\n",
       "      <td>1.09</td>\n",
       "    </tr>\n",
       "  </tbody>\n",
       "</table>\n",
       "</div>"
      ],
      "text/plain": [
       "                Var   Vif\n",
       "3          mainroad  5.51\n",
       "0              area  4.43\n",
       "2           stories  2.32\n",
       "10   semi-furnished  2.00\n",
       "8           parking  1.99\n",
       "5          basement  1.90\n",
       "7   airconditioning  1.76\n",
       "11      unfurnished  1.65\n",
       "1         bathrooms  1.62\n",
       "9          prefarea  1.50\n",
       "4         guestroom  1.47\n",
       "6   hotwaterheating  1.09"
      ]
     },
     "execution_count": 85,
     "metadata": {},
     "output_type": "execute_result"
    }
   ],
   "source": [
    "# Calculating vif values\n",
    "vif_cal(input_data=housing.drop([\"areaperbedroom\", \"bedrooms\", \"bratio\"], axis = 1), dependent_col=\"price\")"
   ]
  },
  {
   "cell_type": "markdown",
   "metadata": {},
   "source": [
    "#### Dropping the Variable and Updating the Model"
   ]
  },
  {
   "cell_type": "code",
   "execution_count": 86,
   "metadata": {},
   "outputs": [],
   "source": [
    "# Dropping highly correlated variable and insignificant variables\n",
    "X_train = X_train.drop('semi-furnished', 1)"
   ]
  },
  {
   "cell_type": "code",
   "execution_count": 87,
   "metadata": {},
   "outputs": [],
   "source": [
    "lm_5 = sm.OLS(y_train, X_train).fit()"
   ]
  },
  {
   "cell_type": "code",
   "execution_count": 88,
   "metadata": {},
   "outputs": [
    {
     "name": "stdout",
     "output_type": "stream",
     "text": [
      "                            OLS Regression Results                            \n",
      "==============================================================================\n",
      "Dep. Variable:                  price   R-squared:                       0.680\n",
      "Model:                            OLS   Adj. R-squared:                  0.671\n",
      "Method:                 Least Squares   F-statistic:                     71.31\n",
      "Date:                Sat, 29 Jun 2019   Prob (F-statistic):           2.73e-84\n",
      "Time:                        23:33:38   Log-Likelihood:                 380.96\n",
      "No. Observations:                 381   AIC:                            -737.9\n",
      "Df Residuals:                     369   BIC:                            -690.6\n",
      "Df Model:                          11                                         \n",
      "Covariance Type:            nonrobust                                         \n",
      "===================================================================================\n",
      "                      coef    std err          t      P>|t|      [0.025      0.975]\n",
      "-----------------------------------------------------------------------------------\n",
      "const               0.0319      0.015      2.142      0.033       0.003       0.061\n",
      "area                0.3006      0.038      7.851      0.000       0.225       0.376\n",
      "bathrooms           0.2947      0.032      9.132      0.000       0.231       0.358\n",
      "stories             0.1178      0.018      6.654      0.000       0.083       0.153\n",
      "mainroad            0.0488      0.014      3.423      0.001       0.021       0.077\n",
      "guestroom           0.0301      0.014      2.211      0.028       0.003       0.057\n",
      "basement            0.0239      0.011      2.183      0.030       0.002       0.045\n",
      "hotwaterheating     0.0864      0.022      4.014      0.000       0.044       0.129\n",
      "airconditioning     0.0665      0.011      5.895      0.000       0.044       0.089\n",
      "parking             0.0629      0.018      3.501      0.001       0.028       0.098\n",
      "prefarea            0.0596      0.012      5.061      0.000       0.036       0.083\n",
      "unfurnished        -0.0323      0.010     -3.169      0.002      -0.052      -0.012\n",
      "==============================================================================\n",
      "Omnibus:                       97.661   Durbin-Watson:                   2.097\n",
      "Prob(Omnibus):                  0.000   Jarque-Bera (JB):              325.388\n",
      "Skew:                           1.130   Prob(JB):                     2.20e-71\n",
      "Kurtosis:                       6.923   Cond. No.                         13.3\n",
      "==============================================================================\n",
      "\n",
      "Warnings:\n",
      "[1] Standard Errors assume that the covariance matrix of the errors is correctly specified.\n"
     ]
    }
   ],
   "source": [
    "print(lm_5.summary())"
   ]
  },
  {
   "cell_type": "code",
   "execution_count": 89,
   "metadata": {},
   "outputs": [
    {
     "name": "stdout",
     "output_type": "stream",
     "text": [
      "                 Results: Ordinary least squares\n",
      "==================================================================\n",
      "Model:              OLS              Adj. R-squared:     0.671    \n",
      "Dependent Variable: price            AIC:                -737.9130\n",
      "Date:               2019-06-29 23:33 BIC:                -690.5994\n",
      "No. Observations:   381              Log-Likelihood:     380.96   \n",
      "Df Model:           11               F-statistic:        71.31    \n",
      "Df Residuals:       369              Prob (F-statistic): 2.73e-84 \n",
      "R-squared:          0.680            Scale:              0.0081834\n",
      "------------------------------------------------------------------\n",
      "                    Coef.  Std.Err.    t    P>|t|   [0.025  0.975]\n",
      "------------------------------------------------------------------\n",
      "const               0.0319   0.0149  2.1423 0.0328  0.0026  0.0611\n",
      "area                0.3006   0.0383  7.8508 0.0000  0.2253  0.3758\n",
      "bathrooms           0.2947   0.0323  9.1324 0.0000  0.2313  0.3582\n",
      "stories             0.1178   0.0177  6.6538 0.0000  0.0830  0.1526\n",
      "mainroad            0.0488   0.0143  3.4230 0.0007  0.0208  0.0768\n",
      "guestroom           0.0301   0.0136  2.2111 0.0276  0.0033  0.0569\n",
      "basement            0.0239   0.0110  2.1826 0.0297  0.0024  0.0455\n",
      "hotwaterheating     0.0864   0.0215  4.0137 0.0001  0.0441  0.1287\n",
      "airconditioning     0.0665   0.0113  5.8948 0.0000  0.0443  0.0887\n",
      "parking             0.0629   0.0180  3.5010 0.0005  0.0276  0.0982\n",
      "prefarea            0.0596   0.0118  5.0613 0.0000  0.0365  0.0828\n",
      "unfurnished        -0.0323   0.0102 -3.1694 0.0017 -0.0524 -0.0123\n",
      "------------------------------------------------------------------\n",
      "Omnibus:              97.661       Durbin-Watson:          2.097  \n",
      "Prob(Omnibus):        0.000        Jarque-Bera (JB):       325.388\n",
      "Skew:                 1.130        Prob(JB):               0.000  \n",
      "Kurtosis:             6.923        Condition No.:          13     \n",
      "==================================================================\n",
      "\n"
     ]
    }
   ],
   "source": [
    "print(lm_5.summary2())"
   ]
  },
  {
   "cell_type": "code",
   "execution_count": 90,
   "metadata": {},
   "outputs": [
    {
     "data": {
      "text/html": [
       "<div>\n",
       "<style scoped>\n",
       "    .dataframe tbody tr th:only-of-type {\n",
       "        vertical-align: middle;\n",
       "    }\n",
       "\n",
       "    .dataframe tbody tr th {\n",
       "        vertical-align: top;\n",
       "    }\n",
       "\n",
       "    .dataframe thead th {\n",
       "        text-align: right;\n",
       "    }\n",
       "</style>\n",
       "<table border=\"1\" class=\"dataframe\">\n",
       "  <thead>\n",
       "    <tr style=\"text-align: right;\">\n",
       "      <th></th>\n",
       "      <th>Var</th>\n",
       "      <th>Vif</th>\n",
       "    </tr>\n",
       "  </thead>\n",
       "  <tbody>\n",
       "    <tr>\n",
       "      <th>3</th>\n",
       "      <td>mainroad</td>\n",
       "      <td>4.85</td>\n",
       "    </tr>\n",
       "    <tr>\n",
       "      <th>0</th>\n",
       "      <td>area</td>\n",
       "      <td>4.36</td>\n",
       "    </tr>\n",
       "    <tr>\n",
       "      <th>2</th>\n",
       "      <td>stories</td>\n",
       "      <td>2.30</td>\n",
       "    </tr>\n",
       "    <tr>\n",
       "      <th>8</th>\n",
       "      <td>parking</td>\n",
       "      <td>1.99</td>\n",
       "    </tr>\n",
       "    <tr>\n",
       "      <th>5</th>\n",
       "      <td>basement</td>\n",
       "      <td>1.86</td>\n",
       "    </tr>\n",
       "    <tr>\n",
       "      <th>7</th>\n",
       "      <td>airconditioning</td>\n",
       "      <td>1.75</td>\n",
       "    </tr>\n",
       "    <tr>\n",
       "      <th>1</th>\n",
       "      <td>bathrooms</td>\n",
       "      <td>1.62</td>\n",
       "    </tr>\n",
       "    <tr>\n",
       "      <th>9</th>\n",
       "      <td>prefarea</td>\n",
       "      <td>1.49</td>\n",
       "    </tr>\n",
       "    <tr>\n",
       "      <th>4</th>\n",
       "      <td>guestroom</td>\n",
       "      <td>1.47</td>\n",
       "    </tr>\n",
       "    <tr>\n",
       "      <th>10</th>\n",
       "      <td>unfurnished</td>\n",
       "      <td>1.34</td>\n",
       "    </tr>\n",
       "    <tr>\n",
       "      <th>6</th>\n",
       "      <td>hotwaterheating</td>\n",
       "      <td>1.08</td>\n",
       "    </tr>\n",
       "  </tbody>\n",
       "</table>\n",
       "</div>"
      ],
      "text/plain": [
       "                Var   Vif\n",
       "3          mainroad  4.85\n",
       "0              area  4.36\n",
       "2           stories  2.30\n",
       "8           parking  1.99\n",
       "5          basement  1.86\n",
       "7   airconditioning  1.75\n",
       "1         bathrooms  1.62\n",
       "9          prefarea  1.49\n",
       "4         guestroom  1.47\n",
       "10      unfurnished  1.34\n",
       "6   hotwaterheating  1.08"
      ]
     },
     "execution_count": 90,
     "metadata": {},
     "output_type": "execute_result"
    }
   ],
   "source": [
    "# Calculating vif values\n",
    "vif_cal(input_data=housing.drop([\"areaperbedroom\", \"bedrooms\", \"semi-furnished\", \"bratio\"], axis = 1), dependent_col=\"price\")"
   ]
  },
  {
   "cell_type": "markdown",
   "metadata": {},
   "source": [
    "#### Dropping the Variable and Updating the Model"
   ]
  },
  {
   "cell_type": "code",
   "execution_count": 91,
   "metadata": {},
   "outputs": [],
   "source": [
    "# Dropping highly correlated variable and insignificant variables\n",
    "X_train = X_train.drop('basement', 1)"
   ]
  },
  {
   "cell_type": "code",
   "execution_count": 92,
   "metadata": {},
   "outputs": [],
   "source": [
    "lm_6 = sm.OLS(y_train, X_train).fit()"
   ]
  },
  {
   "cell_type": "code",
   "execution_count": 93,
   "metadata": {},
   "outputs": [
    {
     "name": "stdout",
     "output_type": "stream",
     "text": [
      "                            OLS Regression Results                            \n",
      "==============================================================================\n",
      "Dep. Variable:                  price   R-squared:                       0.676\n",
      "Model:                            OLS   Adj. R-squared:                  0.667\n",
      "Method:                 Least Squares   F-statistic:                     77.18\n",
      "Date:                Sat, 29 Jun 2019   Prob (F-statistic):           3.13e-84\n",
      "Time:                        23:33:40   Log-Likelihood:                 378.51\n",
      "No. Observations:                 381   AIC:                            -735.0\n",
      "Df Residuals:                     370   BIC:                            -691.7\n",
      "Df Model:                          10                                         \n",
      "Covariance Type:            nonrobust                                         \n",
      "===================================================================================\n",
      "                      coef    std err          t      P>|t|      [0.025      0.975]\n",
      "-----------------------------------------------------------------------------------\n",
      "const               0.0390      0.015      2.670      0.008       0.010       0.068\n",
      "area                0.2990      0.038      7.772      0.000       0.223       0.375\n",
      "bathrooms           0.3028      0.032      9.397      0.000       0.239       0.366\n",
      "stories             0.1081      0.017      6.277      0.000       0.074       0.142\n",
      "mainroad            0.0497      0.014      3.468      0.001       0.022       0.078\n",
      "guestroom           0.0402      0.013      3.124      0.002       0.015       0.065\n",
      "hotwaterheating     0.0876      0.022      4.051      0.000       0.045       0.130\n",
      "airconditioning     0.0682      0.011      6.028      0.000       0.046       0.090\n",
      "parking             0.0629      0.018      3.482      0.001       0.027       0.098\n",
      "prefarea            0.0637      0.012      5.452      0.000       0.041       0.087\n",
      "unfurnished        -0.0337      0.010     -3.295      0.001      -0.054      -0.014\n",
      "==============================================================================\n",
      "Omnibus:                       97.054   Durbin-Watson:                   2.099\n",
      "Prob(Omnibus):                  0.000   Jarque-Bera (JB):              322.034\n",
      "Skew:                           1.124   Prob(JB):                     1.18e-70\n",
      "Kurtosis:                       6.902   Cond. No.                         12.9\n",
      "==============================================================================\n",
      "\n",
      "Warnings:\n",
      "[1] Standard Errors assume that the covariance matrix of the errors is correctly specified.\n"
     ]
    }
   ],
   "source": [
    "print(lm_6.summary())"
   ]
  },
  {
   "cell_type": "code",
   "execution_count": 94,
   "metadata": {},
   "outputs": [
    {
     "name": "stdout",
     "output_type": "stream",
     "text": [
      "                 Results: Ordinary least squares\n",
      "==================================================================\n",
      "Model:              OLS              Adj. R-squared:     0.667    \n",
      "Dependent Variable: price            AIC:                -735.0258\n",
      "Date:               2019-06-29 23:33 BIC:                -691.6550\n",
      "No. Observations:   381              Log-Likelihood:     378.51   \n",
      "Df Model:           10               F-statistic:        77.18    \n",
      "Df Residuals:       370              Prob (F-statistic): 3.13e-84 \n",
      "R-squared:          0.676            Scale:              0.0082667\n",
      "------------------------------------------------------------------\n",
      "                    Coef.  Std.Err.    t    P>|t|   [0.025  0.975]\n",
      "------------------------------------------------------------------\n",
      "const               0.0390   0.0146  2.6700 0.0079  0.0103  0.0677\n",
      "area                0.2990   0.0385  7.7716 0.0000  0.2233  0.3746\n",
      "bathrooms           0.3028   0.0322  9.3968 0.0000  0.2394  0.3661\n",
      "stories             0.1081   0.0172  6.2773 0.0000  0.0743  0.1420\n",
      "mainroad            0.0497   0.0143  3.4681 0.0006  0.0215  0.0778\n",
      "guestroom           0.0402   0.0129  3.1244 0.0019  0.0149  0.0655\n",
      "hotwaterheating     0.0876   0.0216  4.0510 0.0001  0.0451  0.1301\n",
      "airconditioning     0.0682   0.0113  6.0281 0.0000  0.0460  0.0905\n",
      "parking             0.0629   0.0180  3.4823 0.0006  0.0274  0.0983\n",
      "prefarea            0.0637   0.0117  5.4519 0.0000  0.0408  0.0867\n",
      "unfurnished        -0.0337   0.0102 -3.2946 0.0011 -0.0538 -0.0136\n",
      "------------------------------------------------------------------\n",
      "Omnibus:              97.054       Durbin-Watson:          2.099  \n",
      "Prob(Omnibus):        0.000        Jarque-Bera (JB):       322.034\n",
      "Skew:                 1.124        Prob(JB):               0.000  \n",
      "Kurtosis:             6.902        Condition No.:          13     \n",
      "==================================================================\n",
      "\n"
     ]
    }
   ],
   "source": [
    "print(lm_6.summary2())"
   ]
  },
  {
   "cell_type": "code",
   "execution_count": 95,
   "metadata": {},
   "outputs": [
    {
     "data": {
      "text/html": [
       "<div>\n",
       "<style scoped>\n",
       "    .dataframe tbody tr th:only-of-type {\n",
       "        vertical-align: middle;\n",
       "    }\n",
       "\n",
       "    .dataframe tbody tr th {\n",
       "        vertical-align: top;\n",
       "    }\n",
       "\n",
       "    .dataframe thead th {\n",
       "        text-align: right;\n",
       "    }\n",
       "</style>\n",
       "<table border=\"1\" class=\"dataframe\">\n",
       "  <thead>\n",
       "    <tr style=\"text-align: right;\">\n",
       "      <th></th>\n",
       "      <th>Var</th>\n",
       "      <th>Vif</th>\n",
       "    </tr>\n",
       "  </thead>\n",
       "  <tbody>\n",
       "    <tr>\n",
       "      <th>3</th>\n",
       "      <td>mainroad</td>\n",
       "      <td>4.58</td>\n",
       "    </tr>\n",
       "    <tr>\n",
       "      <th>0</th>\n",
       "      <td>area</td>\n",
       "      <td>4.36</td>\n",
       "    </tr>\n",
       "    <tr>\n",
       "      <th>2</th>\n",
       "      <td>stories</td>\n",
       "      <td>2.21</td>\n",
       "    </tr>\n",
       "    <tr>\n",
       "      <th>7</th>\n",
       "      <td>parking</td>\n",
       "      <td>1.99</td>\n",
       "    </tr>\n",
       "    <tr>\n",
       "      <th>6</th>\n",
       "      <td>airconditioning</td>\n",
       "      <td>1.75</td>\n",
       "    </tr>\n",
       "    <tr>\n",
       "      <th>1</th>\n",
       "      <td>bathrooms</td>\n",
       "      <td>1.59</td>\n",
       "    </tr>\n",
       "    <tr>\n",
       "      <th>8</th>\n",
       "      <td>prefarea</td>\n",
       "      <td>1.44</td>\n",
       "    </tr>\n",
       "    <tr>\n",
       "      <th>9</th>\n",
       "      <td>unfurnished</td>\n",
       "      <td>1.34</td>\n",
       "    </tr>\n",
       "    <tr>\n",
       "      <th>4</th>\n",
       "      <td>guestroom</td>\n",
       "      <td>1.29</td>\n",
       "    </tr>\n",
       "    <tr>\n",
       "      <th>5</th>\n",
       "      <td>hotwaterheating</td>\n",
       "      <td>1.08</td>\n",
       "    </tr>\n",
       "  </tbody>\n",
       "</table>\n",
       "</div>"
      ],
      "text/plain": [
       "               Var   Vif\n",
       "3         mainroad  4.58\n",
       "0             area  4.36\n",
       "2          stories  2.21\n",
       "7          parking  1.99\n",
       "6  airconditioning  1.75\n",
       "1        bathrooms  1.59\n",
       "8         prefarea  1.44\n",
       "9      unfurnished  1.34\n",
       "4        guestroom  1.29\n",
       "5  hotwaterheating  1.08"
      ]
     },
     "execution_count": 95,
     "metadata": {},
     "output_type": "execute_result"
    }
   ],
   "source": [
    "# Calculating vif values\n",
    "vif_cal(input_data=housing.drop([\"basement\", \"areaperbedroom\", \"bedrooms\", \"semi-furnished\", \"bratio\"], axis = 1), dependent_col=\"price\")"
   ]
  },
  {
   "cell_type": "markdown",
   "metadata": {},
   "source": [
    "#### Assessment  question\n",
    "#### Design four models by dropping all the variables one by one with high vif (>5). Then, compare the results."
   ]
  },
  {
   "cell_type": "markdown",
   "metadata": {},
   "source": [
    "### Making Predictions Using the Final Model"
   ]
  },
  {
   "cell_type": "markdown",
   "metadata": {},
   "source": [
    "#### Prediction with Model 6"
   ]
  },
  {
   "cell_type": "code",
   "execution_count": 96,
   "metadata": {},
   "outputs": [],
   "source": [
    "# Adding constt variable to test dataframe\n",
    "X_test_m6 = sm.add_constant(X_test)"
   ]
  },
  {
   "cell_type": "code",
   "execution_count": 97,
   "metadata": {},
   "outputs": [],
   "source": [
    "# Creating X_test_m6 df by dropping variables from X_test_m6\n",
    "X_test_m6 = X_test_m6.drop([\"basement\", \"areaperbedroom\", \"bedrooms\", \"semi-furnished\", \"bratio\"], axis = 1)"
   ]
  },
  {
   "cell_type": "code",
   "execution_count": 98,
   "metadata": {},
   "outputs": [],
   "source": [
    "# Making predictions\n",
    "y_pred_m6 = lm_6.predict(X_test_m6)"
   ]
  },
  {
   "cell_type": "markdown",
   "metadata": {},
   "source": [
    "### Model Evaluation"
   ]
  },
  {
   "cell_type": "code",
   "execution_count": 99,
   "metadata": {},
   "outputs": [
    {
     "data": {
      "text/plain": [
       "Text(0, 0.5, 'Hosuign Price')"
      ]
     },
     "execution_count": 99,
     "metadata": {},
     "output_type": "execute_result"
    },
    {
     "data": {
      "image/png": "[encoded data removed]",
      "text/plain": [
       "<Figure size 432x288 with 1 Axes>"
      ]
     },
     "metadata": {
      "needs_background": "light"
     },
     "output_type": "display_data"
    }
   ],
   "source": [
    "# Actual vs Predicted\n",
    "# Actual  values and predicted values\n",
    "c = [i for i in range(1,165,1)]\n",
    "\n",
    "fig = plt.figure()\n",
    "plt.plot(c, y_test, color = \"blue\", linewidth = 2.5, linestyle = \"-\")\n",
    "plt.plot(c, y_pred_m6, color = \"red\", linewidth = 2.5, linestyle = \"-\")\n",
    "fig.suptitle('Actual and Predicted', fontsize = 20) #Plot Heading\n",
    "plt.xlabel('Index', fontsize = 18)                  # X-label\n",
    "plt.ylabel('Hosuign Price', fontsize = 16)             # Y-label"
   ]
  },
  {
   "cell_type": "code",
   "execution_count": 100,
   "metadata": {},
   "outputs": [
    {
     "data": {
      "text/plain": [
       "Text(0, 0.5, 'y_pred')"
      ]
     },
     "execution_count": 100,
     "metadata": {},
     "output_type": "execute_result"
    },
    {
     "data": {
      "image/png": "[encoded data removed]",
      "text/plain": [
       "<Figure size 432x288 with 1 Axes>"
      ]
     },
     "metadata": {
      "needs_background": "light"
     },
     "output_type": "display_data"
    }
   ],
   "source": [
    "# Plotting y_test and y_pred to understand the spread\n",
    "fig = plt.figure()\n",
    "plt.scatter(y_test, y_pred_m6)\n",
    "fig.suptitle(\"y_test vs y_pred\", fontsize = 20)\n",
    "plt.xlabel(\"y_test\", fontsize =18)\n",
    "plt.ylabel(\"y_pred\", fontsize =18)\n"
   ]
  },
  {
   "cell_type": "code",
   "execution_count": 101,
   "metadata": {},
   "outputs": [
    {
     "data": {
      "text/plain": [
       "Text(0, 0.5, 'y_test - y_pred')"
      ]
     },
     "execution_count": 101,
     "metadata": {},
     "output_type": "execute_result"
    },
    {
     "data": {
      "image/png": "[encoded data removed]",
      "text/plain": [
       "<Figure size 432x288 with 1 Axes>"
      ]
     },
     "metadata": {
      "needs_background": "light"
     },
     "output_type": "display_data"
    }
   ],
   "source": [
    "# Error Terms\n",
    "fig = plt.figure()\n",
    "c = [i for i in range(1,165,1)]\n",
    "\n",
    "plt.plot(c, y_test - y_pred_m6, color = \"blue\", linewidth = 2.5, linestyle = \"-\")\n",
    "fig.suptitle('Error terms', fontsize = 20)          #Plot Heading\n",
    "plt.xlabel('Index', fontsize = 18)                  # X-label\n",
    "plt.ylabel('y_test - y_pred', fontsize = 16)  # Y-label"
   ]
  },
  {
   "cell_type": "code",
   "execution_count": 102,
   "metadata": {},
   "outputs": [
    {
     "data": {
      "text/plain": [
       "Text(0, 0.5, 'Index')"
      ]
     },
     "execution_count": 102,
     "metadata": {},
     "output_type": "execute_result"
    },
    {
     "data": {
      "image/png": "[encoded data removed]",
      "text/plain": [
       "<Figure size 432x288 with 1 Axes>"
      ]
     },
     "metadata": {
      "needs_background": "light"
     },
     "output_type": "display_data"
    }
   ],
   "source": [
    "fig = plt.figure()\n",
    "\n",
    "sns.distplot((y_test - y_pred_m6), bins = 50)\n",
    "fig.suptitle('Error terms', fontsize = 20)          #Plot Heading\n",
    "plt.xlabel('y_test - y_pred', fontsize = 18)                  # X-label\n",
    "plt.ylabel('Index', fontsize = 16)  # Y-label"
   ]
  },
  {
   "cell_type": "code",
   "execution_count": 103,
   "metadata": {},
   "outputs": [],
   "source": [
    "import numpy as np\n",
    "from sklearn.metrics import mean_squared_error, r2_score"
   ]
  },
  {
   "cell_type": "code",
   "execution_count": 104,
   "metadata": {},
   "outputs": [
    {
     "name": "stdout",
     "output_type": "stream",
     "text": [
      "RMSE 0.10001092336807833\n",
      "R squared value 0.660134403021964\n"
     ]
    }
   ],
   "source": [
    "print(\"RMSE\", np.sqrt(mean_squared_error(y_test, y_pred_m6)))\n",
    "print(\"R squared value\", r2_score(y_test, y_pred_m6))"
   ]
  },
  {
   "cell_type": "markdown",
   "metadata": {},
   "source": [
    "## RFE METHOD FOR EARLIER CASE"
   ]
  },
  {
   "cell_type": "markdown",
   "metadata": {},
   "source": [
    "#### Importing and Understanding Data"
   ]
  },
  {
   "cell_type": "markdown",
   "metadata": {},
   "source": [
    "### Model Selection using RFE(HOUSING CASE STUDY)"
   ]
  },
  {
   "cell_type": "code",
   "execution_count": 105,
   "metadata": {},
   "outputs": [],
   "source": [
    "import pandas as pd\n",
    "import numpy as np"
   ]
  },
  {
   "cell_type": "code",
   "execution_count": 108,
   "metadata": {},
   "outputs": [],
   "source": [
    "housing = pd.read_csv('Datasets/Housing.csv')"
   ]
  },
  {
   "cell_type": "code",
   "execution_count": 109,
   "metadata": {},
   "outputs": [
    {
     "data": {
      "text/html": [
       "<div>\n",
       "<style scoped>\n",
       "    .dataframe tbody tr th:only-of-type {\n",
       "        vertical-align: middle;\n",
       "    }\n",
       "\n",
       "    .dataframe tbody tr th {\n",
       "        vertical-align: top;\n",
       "    }\n",
       "\n",
       "    .dataframe thead th {\n",
       "        text-align: right;\n",
       "    }\n",
       "</style>\n",
       "<table border=\"1\" class=\"dataframe\">\n",
       "  <thead>\n",
       "    <tr style=\"text-align: right;\">\n",
       "      <th></th>\n",
       "      <th>price</th>\n",
       "      <th>area</th>\n",
       "      <th>bedrooms</th>\n",
       "      <th>bathrooms</th>\n",
       "      <th>stories</th>\n",
       "      <th>mainroad</th>\n",
       "      <th>guestroom</th>\n",
       "      <th>basement</th>\n",
       "      <th>hotwaterheating</th>\n",
       "      <th>airconditioning</th>\n",
       "      <th>parking</th>\n",
       "      <th>prefarea</th>\n",
       "      <th>furnishingstatus</th>\n",
       "    </tr>\n",
       "  </thead>\n",
       "  <tbody>\n",
       "    <tr>\n",
       "      <th>0</th>\n",
       "      <td>13300000</td>\n",
       "      <td>7420</td>\n",
       "      <td>4</td>\n",
       "      <td>2</td>\n",
       "      <td>3</td>\n",
       "      <td>yes</td>\n",
       "      <td>no</td>\n",
       "      <td>no</td>\n",
       "      <td>no</td>\n",
       "      <td>yes</td>\n",
       "      <td>2</td>\n",
       "      <td>yes</td>\n",
       "      <td>furnished</td>\n",
       "    </tr>\n",
       "    <tr>\n",
       "      <th>1</th>\n",
       "      <td>12250000</td>\n",
       "      <td>8960</td>\n",
       "      <td>4</td>\n",
       "      <td>4</td>\n",
       "      <td>4</td>\n",
       "      <td>yes</td>\n",
       "      <td>no</td>\n",
       "      <td>no</td>\n",
       "      <td>no</td>\n",
       "      <td>yes</td>\n",
       "      <td>3</td>\n",
       "      <td>no</td>\n",
       "      <td>furnished</td>\n",
       "    </tr>\n",
       "    <tr>\n",
       "      <th>2</th>\n",
       "      <td>12250000</td>\n",
       "      <td>9960</td>\n",
       "      <td>3</td>\n",
       "      <td>2</td>\n",
       "      <td>2</td>\n",
       "      <td>yes</td>\n",
       "      <td>no</td>\n",
       "      <td>yes</td>\n",
       "      <td>no</td>\n",
       "      <td>no</td>\n",
       "      <td>2</td>\n",
       "      <td>yes</td>\n",
       "      <td>semi-furnished</td>\n",
       "    </tr>\n",
       "    <tr>\n",
       "      <th>3</th>\n",
       "      <td>12215000</td>\n",
       "      <td>7500</td>\n",
       "      <td>4</td>\n",
       "      <td>2</td>\n",
       "      <td>2</td>\n",
       "      <td>yes</td>\n",
       "      <td>no</td>\n",
       "      <td>yes</td>\n",
       "      <td>no</td>\n",
       "      <td>yes</td>\n",
       "      <td>3</td>\n",
       "      <td>yes</td>\n",
       "      <td>furnished</td>\n",
       "    </tr>\n",
       "    <tr>\n",
       "      <th>4</th>\n",
       "      <td>11410000</td>\n",
       "      <td>7420</td>\n",
       "      <td>4</td>\n",
       "      <td>1</td>\n",
       "      <td>2</td>\n",
       "      <td>yes</td>\n",
       "      <td>yes</td>\n",
       "      <td>yes</td>\n",
       "      <td>no</td>\n",
       "      <td>yes</td>\n",
       "      <td>2</td>\n",
       "      <td>no</td>\n",
       "      <td>furnished</td>\n",
       "    </tr>\n",
       "  </tbody>\n",
       "</table>\n",
       "</div>"
      ],
      "text/plain": [
       "      price  area  bedrooms  bathrooms  stories mainroad guestroom basement  \\\n",
       "0  13300000  7420         4          2        3      yes        no       no   \n",
       "1  12250000  8960         4          4        4      yes        no       no   \n",
       "2  12250000  9960         3          2        2      yes        no      yes   \n",
       "3  12215000  7500         4          2        2      yes        no      yes   \n",
       "4  11410000  7420         4          1        2      yes       yes      yes   \n",
       "\n",
       "  hotwaterheating airconditioning  parking prefarea furnishingstatus  \n",
       "0              no             yes        2      yes        furnished  \n",
       "1              no             yes        3       no        furnished  \n",
       "2              no              no        2      yes   semi-furnished  \n",
       "3              no             yes        3      yes        furnished  \n",
       "4              no             yes        2       no        furnished  "
      ]
     },
     "execution_count": 109,
     "metadata": {},
     "output_type": "execute_result"
    }
   ],
   "source": [
    "housing.head()"
   ]
  },
  {
   "cell_type": "code",
   "execution_count": 110,
   "metadata": {},
   "outputs": [
    {
     "name": "stdout",
     "output_type": "stream",
     "text": [
      "<class 'pandas.core.frame.DataFrame'>\n",
      "RangeIndex: 545 entries, 0 to 544\n",
      "Data columns (total 13 columns):\n",
      "price               545 non-null int64\n",
      "area                545 non-null int64\n",
      "bedrooms            545 non-null int64\n",
      "bathrooms           545 non-null int64\n",
      "stories             545 non-null int64\n",
      "mainroad            545 non-null object\n",
      "guestroom           545 non-null object\n",
      "basement            545 non-null object\n",
      "hotwaterheating     545 non-null object\n",
      "airconditioning     545 non-null object\n",
      "parking             545 non-null int64\n",
      "prefarea            545 non-null object\n",
      "furnishingstatus    545 non-null object\n",
      "dtypes: int64(6), object(7)\n",
      "memory usage: 55.4+ KB\n"
     ]
    }
   ],
   "source": [
    "housing.info()"
   ]
  },
  {
   "cell_type": "code",
   "execution_count": 111,
   "metadata": {},
   "outputs": [
    {
     "data": {
      "text/html": [
       "<div>\n",
       "<style scoped>\n",
       "    .dataframe tbody tr th:only-of-type {\n",
       "        vertical-align: middle;\n",
       "    }\n",
       "\n",
       "    .dataframe tbody tr th {\n",
       "        vertical-align: top;\n",
       "    }\n",
       "\n",
       "    .dataframe thead th {\n",
       "        text-align: right;\n",
       "    }\n",
       "</style>\n",
       "<table border=\"1\" class=\"dataframe\">\n",
       "  <thead>\n",
       "    <tr style=\"text-align: right;\">\n",
       "      <th></th>\n",
       "      <th>price</th>\n",
       "      <th>area</th>\n",
       "      <th>bedrooms</th>\n",
       "      <th>bathrooms</th>\n",
       "      <th>stories</th>\n",
       "      <th>mainroad</th>\n",
       "      <th>guestroom</th>\n",
       "      <th>basement</th>\n",
       "      <th>hotwaterheating</th>\n",
       "      <th>airconditioning</th>\n",
       "      <th>parking</th>\n",
       "      <th>prefarea</th>\n",
       "      <th>furnishingstatus</th>\n",
       "    </tr>\n",
       "  </thead>\n",
       "  <tbody>\n",
       "    <tr>\n",
       "      <th>540</th>\n",
       "      <td>1820000</td>\n",
       "      <td>3000</td>\n",
       "      <td>2</td>\n",
       "      <td>1</td>\n",
       "      <td>1</td>\n",
       "      <td>yes</td>\n",
       "      <td>no</td>\n",
       "      <td>yes</td>\n",
       "      <td>no</td>\n",
       "      <td>no</td>\n",
       "      <td>2</td>\n",
       "      <td>no</td>\n",
       "      <td>unfurnished</td>\n",
       "    </tr>\n",
       "    <tr>\n",
       "      <th>541</th>\n",
       "      <td>1767150</td>\n",
       "      <td>2400</td>\n",
       "      <td>3</td>\n",
       "      <td>1</td>\n",
       "      <td>1</td>\n",
       "      <td>no</td>\n",
       "      <td>no</td>\n",
       "      <td>no</td>\n",
       "      <td>no</td>\n",
       "      <td>no</td>\n",
       "      <td>0</td>\n",
       "      <td>no</td>\n",
       "      <td>semi-furnished</td>\n",
       "    </tr>\n",
       "    <tr>\n",
       "      <th>542</th>\n",
       "      <td>1750000</td>\n",
       "      <td>3620</td>\n",
       "      <td>2</td>\n",
       "      <td>1</td>\n",
       "      <td>1</td>\n",
       "      <td>yes</td>\n",
       "      <td>no</td>\n",
       "      <td>no</td>\n",
       "      <td>no</td>\n",
       "      <td>no</td>\n",
       "      <td>0</td>\n",
       "      <td>no</td>\n",
       "      <td>unfurnished</td>\n",
       "    </tr>\n",
       "    <tr>\n",
       "      <th>543</th>\n",
       "      <td>1750000</td>\n",
       "      <td>2910</td>\n",
       "      <td>3</td>\n",
       "      <td>1</td>\n",
       "      <td>1</td>\n",
       "      <td>no</td>\n",
       "      <td>no</td>\n",
       "      <td>no</td>\n",
       "      <td>no</td>\n",
       "      <td>no</td>\n",
       "      <td>0</td>\n",
       "      <td>no</td>\n",
       "      <td>furnished</td>\n",
       "    </tr>\n",
       "    <tr>\n",
       "      <th>544</th>\n",
       "      <td>1750000</td>\n",
       "      <td>3850</td>\n",
       "      <td>3</td>\n",
       "      <td>1</td>\n",
       "      <td>2</td>\n",
       "      <td>yes</td>\n",
       "      <td>no</td>\n",
       "      <td>no</td>\n",
       "      <td>no</td>\n",
       "      <td>no</td>\n",
       "      <td>0</td>\n",
       "      <td>no</td>\n",
       "      <td>unfurnished</td>\n",
       "    </tr>\n",
       "  </tbody>\n",
       "</table>\n",
       "</div>"
      ],
      "text/plain": [
       "       price  area  bedrooms  bathrooms  stories mainroad guestroom basement  \\\n",
       "540  1820000  3000         2          1        1      yes        no      yes   \n",
       "541  1767150  2400         3          1        1       no        no       no   \n",
       "542  1750000  3620         2          1        1      yes        no       no   \n",
       "543  1750000  2910         3          1        1       no        no       no   \n",
       "544  1750000  3850         3          1        2      yes        no       no   \n",
       "\n",
       "    hotwaterheating airconditioning  parking prefarea furnishingstatus  \n",
       "540              no              no        2       no      unfurnished  \n",
       "541              no              no        0       no   semi-furnished  \n",
       "542              no              no        0       no      unfurnished  \n",
       "543              no              no        0       no        furnished  \n",
       "544              no              no        0       no      unfurnished  "
      ]
     },
     "execution_count": 111,
     "metadata": {},
     "output_type": "execute_result"
    }
   ],
   "source": [
    "housing.tail()"
   ]
  },
  {
   "cell_type": "markdown",
   "metadata": {},
   "source": [
    "#### Data Preparation"
   ]
  },
  {
   "cell_type": "code",
   "execution_count": 112,
   "metadata": {},
   "outputs": [],
   "source": [
    "# Converting yes to 1 an No to 0\n",
    "housing['mainroad'] = housing['mainroad'].map({'yes': 1, 'no':0})\n",
    "housing['guestroom'] = housing['guestroom'].map({'yes': 1, 'no':0}) \n",
    "housing['basement'] = housing['basement'].map({'yes': 1, 'no':0}) \n",
    "housing['hotwaterheating'] = housing['hotwaterheating'].map({'yes': 1, 'no':0}) \n",
    "housing['airconditioning'] = housing['airconditioning'].map({'yes': 1, 'no':0}) \n",
    "housing['prefarea'] = housing['prefarea'].map({'yes': 1, 'no':0}) "
   ]
  },
  {
   "cell_type": "code",
   "execution_count": 113,
   "metadata": {},
   "outputs": [],
   "source": [
    "# Creating a dummy variable for 'furnishingstatus'\n",
    "status = pd.get_dummies(housing['furnishingstatus'], drop_first = True)"
   ]
  },
  {
   "cell_type": "code",
   "execution_count": 114,
   "metadata": {},
   "outputs": [],
   "source": [
    "# Adding the result to master dataframe\n",
    "housing = pd.concat([housing, status], axis = 1)"
   ]
  },
  {
   "cell_type": "code",
   "execution_count": 115,
   "metadata": {},
   "outputs": [],
   "source": [
    "housing.drop(['furnishingstatus'], axis = 1, inplace = True)"
   ]
  },
  {
   "cell_type": "markdown",
   "metadata": {},
   "source": [
    "##### Creating a new variable"
   ]
  },
  {
   "cell_type": "code",
   "execution_count": 116,
   "metadata": {},
   "outputs": [],
   "source": [
    "housing['areaperbedroom'] = housing['area']/housing['bedrooms']"
   ]
  },
  {
   "cell_type": "code",
   "execution_count": 117,
   "metadata": {},
   "outputs": [],
   "source": [
    "housing['bratio'] = housing['bathrooms']/housing['bedrooms']"
   ]
  },
  {
   "cell_type": "markdown",
   "metadata": {},
   "source": [
    "#### Rescaling the Features \n",
    "It is extremely important to rescale the variables so that they have a comparable scale. \n",
    "There are twocoon ways of rescaling \n",
    "1. Normalisation (min-max scaling) and \n",
    "2. standardisation (mean-o, sigma-1) \n",
    "Let's try normalisation"
   ]
  },
  {
   "cell_type": "code",
   "execution_count": 118,
   "metadata": {},
   "outputs": [],
   "source": [
    "# defining a normalization function\n",
    "def normalize (x):\n",
    "    return ( (x - np.min(x))/ (max(x) - min(x)))\n",
    "\n",
    "housing = housing.apply(normalize)"
   ]
  },
  {
   "cell_type": "markdown",
   "metadata": {},
   "source": [
    "#### Splitting data into training and testing sets"
   ]
  },
  {
   "cell_type": "code",
   "execution_count": 119,
   "metadata": {},
   "outputs": [],
   "source": [
    "X = housing[['area', 'bedrooms', 'bathrooms', 'stories', 'mainroad',\n",
    "       'guestroom', 'basement', 'hotwaterheating', 'airconditioning',\n",
    "       'parking', 'prefarea', 'semi-furnished', 'unfurnished',\n",
    "       'areaperbedroom', 'bratio']]\n",
    "\n",
    "y = housing['price']"
   ]
  },
  {
   "cell_type": "code",
   "execution_count": 120,
   "metadata": {},
   "outputs": [],
   "source": [
    "from sklearn.model_selection import train_test_split\n",
    "X_train, X_test, y_train, y_test = train_test_split(X, y, \n",
    "                                                    train_size = 0.7,\n",
    "                                                    test_size = 0.3,\n",
    "                                                    random_state =100)"
   ]
  },
  {
   "cell_type": "markdown",
   "metadata": {},
   "source": [
    "#### RFE"
   ]
  },
  {
   "cell_type": "code",
   "execution_count": 121,
   "metadata": {},
   "outputs": [],
   "source": [
    "#  Importing RFE and LinearRegression\n",
    "from sklearn.feature_selection import RFE\n",
    "from sklearn.linear_model  import LinearRegression"
   ]
  },
  {
   "cell_type": "code",
   "execution_count": 122,
   "metadata": {},
   "outputs": [
    {
     "name": "stdout",
     "output_type": "stream",
     "text": [
      "[ True False  True  True  True False False  True  True False  True False\n",
      " False  True  True]\n",
      "[1 3 1 1 1 4 6 1 1 2 1 7 5 1 1]\n"
     ]
    }
   ],
   "source": [
    "lm = LinearRegression()\n",
    "rfe = RFE(lm, 9)\n",
    "rfe = rfe.fit(X_train, y_train)\n",
    "print(rfe.support_)\n",
    "print(rfe.ranking_)\n"
   ]
  },
  {
   "cell_type": "code",
   "execution_count": 123,
   "metadata": {},
   "outputs": [],
   "source": [
    "col = X_train.columns[rfe.support_]"
   ]
  },
  {
   "cell_type": "markdown",
   "metadata": {},
   "source": [
    "#### Building model using sklearn"
   ]
  },
  {
   "cell_type": "code",
   "execution_count": 124,
   "metadata": {},
   "outputs": [],
   "source": [
    "# Creating X_test dataframe with RFE selected variables\n",
    "X_train_rfe = X_train[col]"
   ]
  },
  {
   "cell_type": "code",
   "execution_count": 125,
   "metadata": {},
   "outputs": [
    {
     "name": "stderr",
     "output_type": "stream",
     "text": [
      "C:\\Users\\acer\\Anaconda3\\lib\\site-packages\\numpy\\core\\fromnumeric.py:2223: FutureWarning: Method .ptp is deprecated and will be removed in a future version. Use numpy.ptp instead.\n",
      "  return ptp(axis=axis, out=out, **kwargs)\n"
     ]
    }
   ],
   "source": [
    "# Adding a constt variable\n",
    "import statsmodels.api as sm\n",
    "X_train_rfe = sm.add_constant(X_train_rfe)"
   ]
  },
  {
   "cell_type": "code",
   "execution_count": 126,
   "metadata": {},
   "outputs": [],
   "source": [
    "lm = sm.OLS(y_train, X_train_rfe).fit() # Running the linear model"
   ]
  },
  {
   "cell_type": "code",
   "execution_count": 127,
   "metadata": {},
   "outputs": [
    {
     "name": "stdout",
     "output_type": "stream",
     "text": [
      "                            OLS Regression Results                            \n",
      "==============================================================================\n",
      "Dep. Variable:                  price   R-squared:                       0.660\n",
      "Model:                            OLS   Adj. R-squared:                  0.652\n",
      "Method:                 Least Squares   F-statistic:                     80.14\n",
      "Date:                Sat, 29 Jun 2019   Prob (F-statistic):           1.88e-81\n",
      "Time:                        23:34:03   Log-Likelihood:                 369.54\n",
      "No. Observations:                 381   AIC:                            -719.1\n",
      "Df Residuals:                     371   BIC:                            -679.7\n",
      "Df Model:                           9                                         \n",
      "Covariance Type:            nonrobust                                         \n",
      "===================================================================================\n",
      "                      coef    std err          t      P>|t|      [0.025      0.975]\n",
      "-----------------------------------------------------------------------------------\n",
      "const               0.0139      0.021      0.654      0.513      -0.028       0.055\n",
      "area                0.7022      0.130      5.421      0.000       0.447       0.957\n",
      "bathrooms           0.1718      0.098      1.759      0.079      -0.020       0.364\n",
      "stories             0.0814      0.019      4.321      0.000       0.044       0.118\n",
      "mainroad            0.0647      0.014      4.470      0.000       0.036       0.093\n",
      "hotwaterheating     0.1002      0.022      4.523      0.000       0.057       0.144\n",
      "airconditioning     0.0776      0.011      6.806      0.000       0.055       0.100\n",
      "prefarea            0.0631      0.012      5.286      0.000       0.040       0.087\n",
      "areaperbedroom     -0.4095      0.143     -2.868      0.004      -0.690      -0.129\n",
      "bratio              0.1156      0.080      1.450      0.148      -0.041       0.272\n",
      "==============================================================================\n",
      "Omnibus:                       85.512   Durbin-Watson:                   2.108\n",
      "Prob(Omnibus):                  0.000   Jarque-Bera (JB):              273.429\n",
      "Skew:                           0.998   Prob(JB):                     4.22e-60\n",
      "Kurtosis:                       6.638   Cond. No.                         70.4\n",
      "==============================================================================\n",
      "\n",
      "Warnings:\n",
      "[1] Standard Errors assume that the covariance matrix of the errors is correctly specified.\n"
     ]
    }
   ],
   "source": [
    "print(lm.summary())"
   ]
  },
  {
   "cell_type": "code",
   "execution_count": 128,
   "metadata": {},
   "outputs": [
    {
     "name": "stdout",
     "output_type": "stream",
     "text": [
      "                 Results: Ordinary least squares\n",
      "==================================================================\n",
      "Model:              OLS              Adj. R-squared:     0.652    \n",
      "Dependent Variable: price            AIC:                -719.0812\n",
      "Date:               2019-06-29 23:34 BIC:                -679.6532\n",
      "No. Observations:   381              Log-Likelihood:     369.54   \n",
      "Df Model:           9                F-statistic:        80.14    \n",
      "Df Residuals:       371              Prob (F-statistic): 1.88e-81 \n",
      "R-squared:          0.660            Scale:              0.0086420\n",
      "------------------------------------------------------------------\n",
      "                    Coef.  Std.Err.    t    P>|t|   [0.025  0.975]\n",
      "------------------------------------------------------------------\n",
      "const               0.0139   0.0212  0.6541 0.5134 -0.0278  0.0555\n",
      "area                0.7022   0.1295  5.4206 0.0000  0.4475  0.9569\n",
      "bathrooms           0.1718   0.0977  1.7593 0.0793 -0.0202  0.3639\n",
      "stories             0.0814   0.0188  4.3214 0.0000  0.0443  0.1184\n",
      "mainroad            0.0647   0.0145  4.4704 0.0000  0.0363  0.0932\n",
      "hotwaterheating     0.1002   0.0222  4.5226 0.0000  0.0566  0.1438\n",
      "airconditioning     0.0776   0.0114  6.8061 0.0000  0.0551  0.1000\n",
      "prefarea            0.0631   0.0119  5.2865 0.0000  0.0396  0.0866\n",
      "areaperbedroom     -0.4095   0.1428 -2.8681 0.0044 -0.6903 -0.1288\n",
      "bratio              0.1156   0.0797  1.4502 0.1478 -0.0411  0.2723\n",
      "------------------------------------------------------------------\n",
      "Omnibus:              85.512       Durbin-Watson:          2.108  \n",
      "Prob(Omnibus):        0.000        Jarque-Bera (JB):       273.429\n",
      "Skew:                 0.998        Prob(JB):               0.000  \n",
      "Kurtosis:             6.638        Condition No.:          70     \n",
      "==================================================================\n",
      "\n"
     ]
    }
   ],
   "source": [
    "print(lm.summary2())"
   ]
  },
  {
   "cell_type": "code",
   "execution_count": 129,
   "metadata": {},
   "outputs": [
    {
     "data": {
      "text/html": [
       "<div>\n",
       "<style scoped>\n",
       "    .dataframe tbody tr th:only-of-type {\n",
       "        vertical-align: middle;\n",
       "    }\n",
       "\n",
       "    .dataframe tbody tr th {\n",
       "        vertical-align: top;\n",
       "    }\n",
       "\n",
       "    .dataframe thead th {\n",
       "        text-align: right;\n",
       "    }\n",
       "</style>\n",
       "<table border=\"1\" class=\"dataframe\">\n",
       "  <thead>\n",
       "    <tr style=\"text-align: right;\">\n",
       "      <th></th>\n",
       "      <th>Var</th>\n",
       "      <th>Vif</th>\n",
       "    </tr>\n",
       "  </thead>\n",
       "  <tbody>\n",
       "    <tr>\n",
       "      <th>8</th>\n",
       "      <td>bratio</td>\n",
       "      <td>6.21</td>\n",
       "    </tr>\n",
       "    <tr>\n",
       "      <th>1</th>\n",
       "      <td>mainroad</td>\n",
       "      <td>4.66</td>\n",
       "    </tr>\n",
       "    <tr>\n",
       "      <th>0</th>\n",
       "      <td>bathrooms</td>\n",
       "      <td>2.78</td>\n",
       "    </tr>\n",
       "    <tr>\n",
       "      <th>5</th>\n",
       "      <td>parking</td>\n",
       "      <td>1.82</td>\n",
       "    </tr>\n",
       "    <tr>\n",
       "      <th>4</th>\n",
       "      <td>airconditioning</td>\n",
       "      <td>1.59</td>\n",
       "    </tr>\n",
       "    <tr>\n",
       "      <th>7</th>\n",
       "      <td>unfurnished</td>\n",
       "      <td>1.44</td>\n",
       "    </tr>\n",
       "    <tr>\n",
       "      <th>6</th>\n",
       "      <td>prefarea</td>\n",
       "      <td>1.41</td>\n",
       "    </tr>\n",
       "    <tr>\n",
       "      <th>2</th>\n",
       "      <td>guestroom</td>\n",
       "      <td>1.28</td>\n",
       "    </tr>\n",
       "    <tr>\n",
       "      <th>3</th>\n",
       "      <td>hotwaterheating</td>\n",
       "      <td>1.08</td>\n",
       "    </tr>\n",
       "  </tbody>\n",
       "</table>\n",
       "</div>"
      ],
      "text/plain": [
       "               Var   Vif\n",
       "8           bratio  6.21\n",
       "1         mainroad  4.66\n",
       "0        bathrooms  2.78\n",
       "5          parking  1.82\n",
       "4  airconditioning  1.59\n",
       "7      unfurnished  1.44\n",
       "6         prefarea  1.41\n",
       "2        guestroom  1.28\n",
       "3  hotwaterheating  1.08"
      ]
     },
     "execution_count": 129,
     "metadata": {},
     "output_type": "execute_result"
    }
   ],
   "source": [
    "# Calculating Vif value\n",
    "vif_cal(input_data=housing.drop(['area', 'bedrooms', 'stories', 'basement', 'semi-furnished', 'areaperbedroom'], axis=1), dependent_col=\"price\")"
   ]
  },
  {
   "cell_type": "markdown",
   "metadata": {},
   "source": [
    "### Making Predictions"
   ]
  },
  {
   "cell_type": "code",
   "execution_count": 130,
   "metadata": {},
   "outputs": [],
   "source": [
    "# Now let's use our model to make predictions.\n",
    "\n",
    "# Creating X_test_6 dataframe by dropping variables from X_test\n",
    "X_test_rfe = X_test[col]\n",
    "\n",
    "# Adding a constant variable \n",
    "X_test_rfe = sm.add_constant(X_test_rfe)\n",
    "\n",
    "# Making predictions\n",
    "y_pred = lm.predict(X_test_rfe)"
   ]
  },
  {
   "cell_type": "markdown",
   "metadata": {},
   "source": [
    "### Model Evaluation"
   ]
  },
  {
   "cell_type": "code",
   "execution_count": 131,
   "metadata": {},
   "outputs": [],
   "source": [
    "# Now let's check how well our model is able to make predictions.\n",
    "\n",
    "# Importing the required libraries for plots.\n",
    "import matplotlib.pyplot as plt\n",
    "import seaborn as sns\n",
    "%matplotlib inline"
   ]
  },
  {
   "cell_type": "code",
   "execution_count": 132,
   "metadata": {},
   "outputs": [
    {
     "data": {
      "text/plain": [
       "Text(0, 0.5, 'Housing Price')"
      ]
     },
     "execution_count": 132,
     "metadata": {},
     "output_type": "execute_result"
    },
    {
     "data": {
      "image/png": "[encoded data removed]",
      "text/plain": [
       "<Figure size 432x288 with 1 Axes>"
      ]
     },
     "metadata": {
      "needs_background": "light"
     },
     "output_type": "display_data"
    }
   ],
   "source": [
    "# Actual and Predicted\n",
    "import matplotlib.pyplot as plt\n",
    "c = [i for i in range(1,165,1)] # generating index \n",
    "fig = plt.figure() \n",
    "plt.plot(c,y_test, color=\"blue\", linewidth=2.5, linestyle=\"-\") #Plotting Actual\n",
    "plt.plot(c,y_pred, color=\"red\",  linewidth=2.5, linestyle=\"-\") #Plotting predicted\n",
    "fig.suptitle('Actual and Predicted', fontsize=20)              # Plot heading \n",
    "plt.xlabel('Index', fontsize=18)                               # X-label\n",
    "plt.ylabel('Housing Price', fontsize=16)                       # Y-label"
   ]
  },
  {
   "cell_type": "code",
   "execution_count": 133,
   "metadata": {},
   "outputs": [
    {
     "data": {
      "text/plain": [
       "Text(0, 0.5, 'ytest-ypred')"
      ]
     },
     "execution_count": 133,
     "metadata": {},
     "output_type": "execute_result"
    },
    {
     "data": {
      "image/png": "[encoded data removed]",
      "text/plain": [
       "<Figure size 432x288 with 1 Axes>"
      ]
     },
     "metadata": {
      "needs_background": "light"
     },
     "output_type": "display_data"
    }
   ],
   "source": [
    "# Error terms\n",
    "c = [i for i in range(1,165,1)]\n",
    "fig = plt.figure()\n",
    "plt.plot(c,y_test-y_pred, color=\"blue\", linewidth=2.5, linestyle=\"-\")\n",
    "fig.suptitle('Error Terms', fontsize=20)              # Plot heading \n",
    "plt.xlabel('Index', fontsize=18)                      # X-label\n",
    "plt.ylabel('ytest-ypred', fontsize=16)                # Y-label"
   ]
  },
  {
   "cell_type": "code",
   "execution_count": 134,
   "metadata": {},
   "outputs": [
    {
     "data": {
      "text/plain": [
       "Text(0, 0.5, 'y_pred')"
      ]
     },
     "execution_count": 134,
     "metadata": {},
     "output_type": "execute_result"
    },
    {
     "data": {
      "image/png": "[encoded data removed]",
      "text/plain": [
       "<Figure size 432x288 with 1 Axes>"
      ]
     },
     "metadata": {
      "needs_background": "light"
     },
     "output_type": "display_data"
    }
   ],
   "source": [
    "# Plotting y_test and y_pred to understand the spread.\n",
    "fig = plt.figure()\n",
    "plt.scatter(y_test,y_pred)\n",
    "fig.suptitle('y_test vs y_pred', fontsize=20)              # Plot heading \n",
    "plt.xlabel('y_test', fontsize=18)                          # X-label\n",
    "plt.ylabel('y_pred', fontsize=16)                          # Y-label"
   ]
  },
  {
   "cell_type": "code",
   "execution_count": 135,
   "metadata": {},
   "outputs": [
    {
     "data": {
      "text/plain": [
       "Text(0, 0.5, 'Index')"
      ]
     },
     "execution_count": 135,
     "metadata": {},
     "output_type": "execute_result"
    },
    {
     "data": {
      "image/png": "[encoded data removed]",
      "text/plain": [
       "<Figure size 432x288 with 1 Axes>"
      ]
     },
     "metadata": {
      "needs_background": "light"
     },
     "output_type": "display_data"
    }
   ],
   "source": [
    "# Plotting the error terms to understand the distribution.\n",
    "fig = plt.figure()\n",
    "sns.distplot((y_test-y_pred),bins=50)\n",
    "fig.suptitle('Error Terms', fontsize=20)                  # Plot heading \n",
    "plt.xlabel('y_test-y_pred', fontsize=18)                  # X-label\n",
    "plt.ylabel('Index', fontsize=16)                          # Y-label"
   ]
  },
  {
   "cell_type": "code",
   "execution_count": 136,
   "metadata": {},
   "outputs": [
    {
     "name": "stdout",
     "output_type": "stream",
     "text": [
      "RMSE : 0.1082035253813171\n",
      "R squared value : 0.7759975370261453\n"
     ]
    }
   ],
   "source": [
    "# Now let's check the Root Mean Square Error of our model.\n",
    "import numpy as np\n",
    "from sklearn import metrics\n",
    "print('RMSE :', np.sqrt(metrics.mean_squared_error(y_test, y_pred)))\n",
    "print('R squared value :', np.sqrt(metrics.r2_score(y_test, y_pred)))"
   ]
  }
 ],
 "metadata": {
  "kernelspec": {
   "display_name": "Python 3",
   "language": "python",
   "name": "python3"
  },
  "language_info": {
   "codemirror_mode": {
    "name": "ipython",
    "version": 3
   },
   "file_extension": ".py",
   "mimetype": "text/x-python",
   "name": "python",
   "nbconvert_exporter": "python",
   "pygments_lexer": "ipython3",
   "version": "3.6.6"
  }
 },
 "nbformat": 4,
 "nbformat_minor": 2
}
